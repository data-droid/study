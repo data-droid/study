{
 "cells": [
  {
   "cell_type": "markdown",
   "metadata": {},
   "source": [
    "# [Getting Started with a Movie Recommendation System](https://www.kaggle.com/ibtesama/getting-started-with-a-movie-recommendation-system)\n",
    "* Data Set 1 : [The Movies Dataset](https://www.kaggle.com/rounakbanik/the-movies-dataset)\n",
    "    * These files contain metadata for all 45,000 movies listed in the Full MovieLens Dataset. The dataset consists of movies released on or before July 2017. Data points include cast, crew, plot keywords, budget, revenue, posters, release dates, languages, production companies, countries, TMDB vote counts and vote averages. This dataset also has files containing 26 million ratings from 270,000 users for all 45,000 movies. Ratings are on a scale of 1-5 and have been obtained from the official GroupLens website.\n",
    "* Data Set 2 : [TMDB 5000 Movie Dataset](https://www.kaggle.com/tmdb/tmdb-movie-metadata)"
   ]
  },
  {
   "cell_type": "markdown",
   "metadata": {},
   "source": [
    "## 추천 시스템의 시대\n",
    "  데이터 수집의 성장으로 새로운 정보화 시대가 열렸다. 데이터를 보다 효율적인 시스템을 만드는데 사용되며 대표적으로 추천 시스템이 있다. 추천 시스템은 inforamtion filtering system의 하나이며 검색 결과의 퀄리티를 향상시키며 검색한 아이템과 더 관련이 있거나 사용자의 검색 기록과 연관된 아이템들을 제공해준다.\n",
    "  \n",
    "  추천 시스템은 사용자에게 아이템을 제공했을때 rating 또는 선호도를 예측하는데 사용된다. 대부분의 회사들이 적용하고 있으며 아마존의 경우 고객들에게 상품을 제안하며, youtube는 다음 자동 재생할 video를 페이스북은 좋아할 만 한 페이지, 팔로우할 만 한 사람을 추천한다. 또한, 넷플릭스와 Spotify의 경우 추천엔진의 효율성에 크게 의존하고 있다.\n",
    "  \n",
    "![netflix](https://i.kinja-img.com/gawker-media/image/upload/s--e3_2HgIC--/c_scale,f_auto,fl_progressive,q_80,w_800/1259003599478673704.jpg)"
   ]
  },
  {
   "cell_type": "markdown",
   "metadata": {},
   "source": [
    "해당 커널은 TMDB 5000 Movie Dataset을 이용하여 영화 추천시스템을 만든다. \n",
    "\n",
    "## 3가지 추천시스템\n",
    "* Demographic Filtering (인구 통계학 기반 필터링)\n",
    "    * 영화의 인기도, 장르 기반으로 모든 사용자에게 일반화 된 추천을 제공함.\n",
    "    * 유사한 인구학적 통계(나이,성별 등..) 사용자에게 같은 영화가 추천됨.\n",
    "    * 각 사용자마다 성향이 다르기 때문에 해당 접근법은 너무 단순함.\n",
    "    * 인기가 많고 호평받는 영화가 일반 시청자가 좋아할 가능성이 더 높음.\n",
    "* Content Base Filtering (컨텐츠 기반 필터링)\n",
    "    * 특정 아이템을 기반으로 비슷한 아이템을 추천함.\n",
    "    * 아이템의 메타데이터(장르, 감독, 요약, 배우 등...)를 사용함\n",
    "    * 특정 아이템을 본 사람은 비슷한 아이템을 좋아할 가능성이 더 큼.\n",
    "* Collaborative Filtering (협업 필터링)\n",
    "   * 비슷한 관심사를 가지는 사람을 찾아 그 사람이 본 다른 컨텐츠를 추천\n",
    "   * 메타데이터가 필요하지 않음!"
   ]
  }
 ],
 "metadata": {
  "kernelspec": {
   "display_name": "Python 3",
   "language": "python",
   "name": "python3"
  },
  "language_info": {
   "codemirror_mode": {
    "name": "ipython",
    "version": 3
   },
   "file_extension": ".py",
   "mimetype": "text/x-python",
   "name": "python",
   "nbconvert_exporter": "python",
   "pygments_lexer": "ipython3",
   "version": "3.6.3"
  }
 },
 "nbformat": 4,
 "nbformat_minor": 2
}
