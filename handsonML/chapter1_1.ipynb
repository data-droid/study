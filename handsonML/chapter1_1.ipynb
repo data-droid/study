{
 "cells": [
  {
   "cell_type": "markdown",
   "metadata": {},
   "source": [
    "# Chapter 1. 한눈에 보는 머신 러닝\n",
    "---\n",
    "### 1.1 머신러닝이란?\n",
    "> 머신러닝의 정의\n",
    "\n",
    "### 1.2 왜 머신러닝을 사용하는가?\n",
    " \n",
    "### 1.3 머신러닝 시스템의 종류\n",
    "1. 지도학습과 비지도학습, \n",
    "> 사람의 감독하에 훈련을 하는가\n",
    "2. 배치학습과 온라인 학습\n",
    "> 실시간으로 점진적인 학습을 하는가?\n",
    "3. 사례 기반 학습과 모델 기반 학습\n",
    "> 훈련 데이터셋에서 패턴을 발견하여 예측 모델을 만드는가?"
   ]
  },
  {
   "cell_type": "markdown",
   "metadata": {},
   "source": [
    "#### 지도학습\n",
    "---\n",
    "지도학습 ( Supervisied Learning) \n",
    "- 학습 데이터에 Label이 답이 포함\n",
    "> - KNN ( K-Nearest Neighbors )\n",
    "  - 선형 회귀 ( Linear Regression ) \n",
    "  - 로직스틱 회귀 ( Logisitic Regression ) \n",
    "  - SVN ( Support Vector Machine ) \n",
    "  - Decision Tree & Random Forest \n",
    "  - Neural Network\n",
    " \n",
    "1. 분류 ( Classification)\n",
    "  -  e.g) 스팸 필터 \n",
    "  ![1-5](https://drive.google.com/uc?id=1AX-GS9bWpCazcn0BqglpWTT6SlaTCvIs)\n",
    "2. 회귀\n",
    "  - 특성을 이용하여 타겟이 되는 수치를 예측 \n",
    "  ![1-6](https://drive.google.com/uc?id=1cRwOsMjDCuQemNzNgDYMdcvFj3mSXW5_)"
   ]
  },
  {
   "cell_type": "markdown",
   "metadata": {},
   "source": [
    "#### 비지도 학습\n",
    "1. 군집 ( Clustering ) \n",
    "2. 시각화 ( Visualization ) \n",
    "3. 차원 축소 (  Dimenstionality Reduction )  - 특성 추출 ( feature selection )\n",
    "4. 이상치 탐지 ( Outlier Detection ) \n",
    "5. 연관 규칙 학습 ( Association rule Learning ) "
   ]
  },
  {
   "cell_type": "markdown",
   "metadata": {},
   "source": [
    "#### 준지도 학습\n",
    "레이블이 일부분만 있는 데이터 다룰 때\n",
    "구글 포토 호스팅\n",
    "대부분은 지도 학습과 비지도 학습의 조합으로 이루어짐 \n",
    "DBN ( 신층 신뢰 신경망  Deep Belief network ) 은 겹겹이 쌓아 제한된 볼프만 머신 (RBM = 비지도 학습) 기초 \n",
    "RBM으로 순차적으로 학습한 다음 전체 시스템이 지도 학습으로 세밀하게 조정 "
   ]
  },
  {
   "cell_type": "markdown",
   "metadata": {},
   "source": [
    "#### 강화 학습\n",
    "에이전트\n",
    "> 학습을 하는 시스템\n",
    "   enviroment를 관찰하여 action을 실행하고 그에 따른 reward 또는 penality를 받음 \n",
    "\n",
    "정책 \n",
    "> 시간이 지남에 따라 큰 reward를 받기위한 전략 \n",
    "\n",
    "정책은 주어진 상황에서 에이전트가 어떤 행동을 선책해야 할지 정의\n",
    "e.g) 알파고 "
   ]
  },
  {
   "cell_type": "markdown",
   "metadata": {},
   "source": [
    "##### 배치 학습과 온라인 학습\n",
    "입력 데이터의 스트림으로 부터 점진적으로 학습할 수 있는가 ? \n",
    " \n",
    "배치학습 ( offline Learning ) \n",
    "> 학습한 것을 단지 적용만할 뿐\n",
    "  새롭게 학습하려면 이전의 모든 데이터와 새로운 데이터를 합쳐서 처음부터 학습해하고, 이전 시스템을 중지하고 새 시스템으로 교체 \n",
    "  \n",
    "온라인 학습 ( incremental learning ) \n",
    "> 데이터를 순차적으로 작은 묶음 단위로 주입하여 학습  ( mini-batch 단위 ) \n",
    "  매 학습 단계마다 빠르고 데이터가 도착하는대로 반응할 수 있음 \n",
    "  - learning rate\n",
    "  \n",
    "  나쁜 데이터가 들어가면 점진적으로 나빠짐.. "
   ]
  },
  {
   "cell_type": "markdown",
   "metadata": {},
   "source": [
    "####  사례 기반 학습 과 모델 기반 학습 \n",
    "\n",
    "> 어떻게 일반화되는가에 따라 분류할 수 있음 \n",
    "  일반화를 위한 접근법\n",
    "  \n",
    "사례 기반 학습 \n",
    "- 일반적인 것\n",
    "\n",
    "모델 기반 학습\n",
    "- "
   ]
  },
  {
   "cell_type": "code",
   "execution_count": null,
   "metadata": {
    "collapsed": true
   },
   "outputs": [],
   "source": []
  }
 ],
 "metadata": {
  "kernelspec": {
   "display_name": "Python 3",
   "language": "python",
   "name": "python3"
  },
  "language_info": {
   "codemirror_mode": {
    "name": "ipython",
    "version": 3
   },
   "file_extension": ".py",
   "mimetype": "text/x-python",
   "name": "python",
   "nbconvert_exporter": "python",
   "pygments_lexer": "ipython3",
   "version": "3.6.5"
  }
 },
 "nbformat": 4,
 "nbformat_minor": 2
}
