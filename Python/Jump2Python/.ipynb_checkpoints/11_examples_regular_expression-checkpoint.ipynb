{
 "cells": [
  {
   "cell_type": "markdown",
   "metadata": {},
   "source": [
    "## 구구단"
   ]
  },
  {
   "cell_type": "code",
   "execution_count": 2,
   "metadata": {},
   "outputs": [
    {
     "name": "stdout",
     "output_type": "stream",
     "text": [
      "[9, 18, 27, 36, 45, 54, 63, 72, 81]\n"
     ]
    }
   ],
   "source": [
    "def GuGu(n):\n",
    "    result = []\n",
    "    for i in range(1,10):\n",
    "        result.append(n*i)\n",
    "    return result\n",
    "print(GuGu(9))"
   ]
  },
  {
   "cell_type": "markdown",
   "metadata": {},
   "source": [
    "## 3과 5의 배수 합하기"
   ]
  },
  {
   "cell_type": "code",
   "execution_count": 4,
   "metadata": {},
   "outputs": [
    {
     "data": {
      "text/plain": [
       "233168"
      ]
     },
     "execution_count": 4,
     "metadata": {},
     "output_type": "execute_result"
    }
   ],
   "source": [
    "def find(n):\n",
    "    result=0\n",
    "    for i in range(1,n):\n",
    "        if (i%3)*(i%5)==0 :\n",
    "            result+=i\n",
    "    return result\n",
    "\n",
    "find(1000)"
   ]
  },
  {
   "cell_type": "markdown",
   "metadata": {},
   "source": [
    "## file Search"
   ]
  },
  {
   "cell_type": "code",
   "execution_count": 5,
   "metadata": {},
   "outputs": [
    {
     "name": "stdout",
     "output_type": "stream",
     "text": [
      "./.ipynb_checkpoints\n",
      "./10_external_function.ipynb\n",
      "./11_examples.ipynb\n",
      "./1_number_string.ipynb\n",
      "./2_list_tuple.ipynb\n",
      "./3_dict_set_bool_var.ipynb\n",
      "./4_if_while_for.ipynb\n",
      "./5_function.ipynb\n",
      "./6_IO_FileIO.ipynb\n",
      "./7_class_module.ipynb\n",
      "./8_packages_exception.ipynb\n",
      "./9_built_in_function.ipynb\n",
      "./mod1.py\n",
      "./mod2.py\n",
      "./packageTest\n",
      "./test\n",
      "./test.txt\n",
      "./test2.txt\n",
      "./__pycache__\n"
     ]
    }
   ],
   "source": [
    "import os\n",
    "\n",
    "def search(dirname):\n",
    "    filenames = os.listdir(dirname)\n",
    "    for filename in filenames:\n",
    "        full_filename = os.path.join(dirname, filename)\n",
    "        print(full_filename)\n",
    "\n",
    "search(\"./\")"
   ]
  },
  {
   "cell_type": "code",
   "execution_count": 6,
   "metadata": {},
   "outputs": [
    {
     "name": "stdout",
     "output_type": "stream",
     "text": [
      "./mod1.py\n",
      "./mod2.py\n"
     ]
    }
   ],
   "source": [
    "import os\n",
    "def search(dirname):\n",
    "    filenames = os.listdir(dirname)\n",
    "    for filename in filenames:\n",
    "        full_filename = os.path.join(dirname, filename)\n",
    "        ext = os.path.splitext(full_filename)[-1]\n",
    "        if ext == '.py':\n",
    "            print(full_filename)\n",
    "search(\"./\")"
   ]
  },
  {
   "cell_type": "code",
   "execution_count": 7,
   "metadata": {},
   "outputs": [
    {
     "name": "stdout",
     "output_type": "stream",
     "text": [
      "./mod1.py\n",
      "./mod2.py\n",
      "./packageTest\\game\\graphic\\render.py\n",
      "./packageTest\\game\\graphic\\__init__.py\n",
      "./packageTest\\game\\sound\\echo.py\n",
      "./packageTest\\game\\sound\\__init__.py\n",
      "./packageTest\\game\\__init__.py\n"
     ]
    }
   ],
   "source": [
    "import os\n",
    "def search(dirname):\n",
    "    try:\n",
    "        filenames = os.listdir(dirname)\n",
    "        for filename in filenames:\n",
    "            full_filename = os.path.join(dirname, filename)\n",
    "            if os.path.isdir(full_filename):\n",
    "                search(full_filename)\n",
    "            else:\n",
    "                ext = os.path.splitext(full_filename)[-1]\n",
    "                if ext == '.py':\n",
    "                    print(full_filename)\n",
    "    except PermissionError:\n",
    "        pass\n",
    "search(\"./\")"
   ]
  },
  {
   "cell_type": "code",
   "execution_count": 8,
   "metadata": {},
   "outputs": [
    {
     "name": "stdout",
     "output_type": "stream",
     "text": [
      ".//mod1.py\n",
      ".//mod2.py\n",
      "./packageTest\\game/__init__.py\n",
      "./packageTest\\game\\graphic/render.py\n",
      "./packageTest\\game\\graphic/__init__.py\n",
      "./packageTest\\game\\sound/echo.py\n",
      "./packageTest\\game\\sound/__init__.py\n"
     ]
    }
   ],
   "source": [
    "import os\n",
    "\n",
    "for (path, dir, files) in os.walk(\"./\"):\n",
    "    for filename in files:\n",
    "        ext = os.path.splitext(filename)[-1]\n",
    "        if ext == \".py\":\n",
    "            print(\"%s/%s\" %(path, filename))"
   ]
  }
 ],
 "metadata": {
  "kernelspec": {
   "display_name": "Python 3",
   "language": "python",
   "name": "python3"
  },
  "language_info": {
   "codemirror_mode": {
    "name": "ipython",
    "version": 3
   },
   "file_extension": ".py",
   "mimetype": "text/x-python",
   "name": "python",
   "nbconvert_exporter": "python",
   "pygments_lexer": "ipython3",
   "version": "3.7.1"
  }
 },
 "nbformat": 4,
 "nbformat_minor": 2
}
