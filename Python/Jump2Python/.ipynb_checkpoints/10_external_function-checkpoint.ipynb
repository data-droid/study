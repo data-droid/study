{
 "cells": [
  {
   "cell_type": "markdown",
   "metadata": {},
   "source": [
    "# 외장 함수\n"
   ]
  },
  {
   "cell_type": "markdown",
   "metadata": {},
   "source": [
    "## sys\n",
    "파이썬 인터프리터가 제공하는 변수, 함수를 제어"
   ]
  },
  {
   "cell_type": "code",
   "execution_count": 3,
   "metadata": {},
   "outputs": [],
   "source": [
    "# sys.argv : 명령 행에서 parameter 전달.\n",
    "# python test.py abc def\n",
    "import sys\n",
    "#print(sys.argv)\n",
    "#['test.py','abc','def']"
   ]
  },
  {
   "cell_type": "code",
   "execution_count": 4,
   "metadata": {},
   "outputs": [],
   "source": [
    "# sys.exit() : 스크립트 종료하기\n",
    "# sys.exit()"
   ]
  },
  {
   "cell_type": "code",
   "execution_count": 6,
   "metadata": {},
   "outputs": [
    {
     "data": {
      "text/plain": [
       "['C:\\\\Users\\\\blue4\\\\study\\\\Python\\\\Jump2Python',\n",
       " 'C:\\\\Users\\\\blue4\\\\Anaconda3\\\\envs\\\\jay\\\\python37.zip']"
      ]
     },
     "execution_count": 6,
     "metadata": {},
     "output_type": "execute_result"
    }
   ],
   "source": [
    "# sys.path : 파이썬 모듈이 저장된 path\n",
    "sys.path[:2]"
   ]
  },
  {
   "cell_type": "markdown",
   "metadata": {},
   "source": [
    "## pickle\n",
    "객체 형태를 그대로 유지하면서 파일에 저장하고 불러올 수 있음."
   ]
  },
  {
   "cell_type": "code",
   "execution_count": 7,
   "metadata": {},
   "outputs": [],
   "source": [
    "import pickle\n",
    "f = open(\"test.txt\",'wb')\n",
    "data = {1: 'python', 2: 'you need'}\n",
    "pickle.dump(data, f)\n",
    "f.close()"
   ]
  },
  {
   "cell_type": "code",
   "execution_count": 8,
   "metadata": {},
   "outputs": [
    {
     "name": "stdout",
     "output_type": "stream",
     "text": [
      "{1: 'python', 2: 'you need'}\n"
     ]
    }
   ],
   "source": [
    "import pickle\n",
    "f = open(\"test.txt\",\"rb\")\n",
    "data2 = pickle.load(f)\n",
    "print(data2)"
   ]
  },
  {
   "cell_type": "markdown",
   "metadata": {},
   "source": [
    "# os\n",
    "환경 변수, 디렉토리, 파일 등 OS 자원 제어"
   ]
  },
  {
   "cell_type": "code",
   "execution_count": 14,
   "metadata": {},
   "outputs": [
    {
     "data": {
      "text/plain": [
       "'Windows_NT'"
      ]
     },
     "execution_count": 14,
     "metadata": {},
     "output_type": "execute_result"
    }
   ],
   "source": [
    "import os\n",
    "#os.environ : 시스템의 다양한 환경 변수 값을 보여줌.\n",
    "os.environ['OS']"
   ]
  },
  {
   "cell_type": "code",
   "execution_count": 17,
   "metadata": {},
   "outputs": [],
   "source": [
    "#os.chdir : 디렉터리 위치 변경\n",
    "os.chdir(\"./Jump2Python\")"
   ]
  },
  {
   "cell_type": "code",
   "execution_count": 18,
   "metadata": {},
   "outputs": [
    {
     "data": {
      "text/plain": [
       "'C:\\\\Users\\\\blue4\\\\study\\\\Python\\\\Jump2Python'"
      ]
     },
     "execution_count": 18,
     "metadata": {},
     "output_type": "execute_result"
    }
   ],
   "source": [
    "#os.getcwd : 디렉터리 위치 리턴\n",
    "os.getcwd()"
   ]
  },
  {
   "cell_type": "code",
   "execution_count": 19,
   "metadata": {},
   "outputs": [
    {
     "data": {
      "text/plain": [
       "0"
      ]
     },
     "execution_count": 19,
     "metadata": {},
     "output_type": "execute_result"
    }
   ],
   "source": [
    "#os.system : 시스템 프로그램이나 명령어 호출.\n",
    "os.system(\"dir\")"
   ]
  },
  {
   "cell_type": "code",
   "execution_count": 20,
   "metadata": {},
   "outputs": [],
   "source": [
    "#os.popen : 실행시킨 결과값을 읽기모드 형태의 파일 객체로 리턴.\n",
    "f = os.popen(\"dir\")"
   ]
  },
  {
   "cell_type": "code",
   "execution_count": 21,
   "metadata": {},
   "outputs": [
    {
     "name": "stdout",
     "output_type": "stream",
     "text": [
      " C 드라이브의 볼륨에는 이름이 없습니다.\n",
      " 볼륨 일련 번호: 14C1-86E0\n",
      "\n",
      " C:\\Users\\blue4\\study\\Python\\Jump2Python 디렉터리\n",
      "\n",
      "2019-04-26  오후 09:44    <DIR>          .\n",
      "2019-04-26  오후 09:44    <DIR>          ..\n",
      "2019-04-26  오후 09:00    <DIR>          .ipynb_checkpoints\n",
      "2019-04-26  오후 09:44             4,153 10_external_function.ipynb\n",
      "2019-04-20  오후 11:49            26,141 1_number_string.ipynb\n",
      "2019-04-21  오전 01:05            17,835 2_list_tuple.ipynb\n",
      "2019-04-21  오후 07:51            21,701 3_dict_set_bool_var.ipynb\n",
      "2019-04-21  오후 10:58            13,237 4_if_while_for.ipynb\n",
      "2019-04-22  오후 08:57            12,803 5_function.ipynb\n",
      "2019-04-22  오후 10:22             8,021 6_IO_FileIO.ipynb\n",
      "2019-04-23  오후 09:29            21,782 7_class_module.ipynb\n",
      "2019-04-24  오후 10:38            16,082 8_packages_exception.ipynb\n",
      "2019-04-25  오후 11:40            16,604 9_built_in_function.ipynb\n",
      "2019-04-23  오후 09:00               132 mod1.py\n",
      "2019-04-23  오후 09:27               111 mod2.py\n",
      "2019-04-23  오후 09:48    <DIR>          packageTest\n",
      "2019-04-25  오후 11:36                 0 test\n",
      "2019-04-26  오후 09:29                40 test.txt\n",
      "2019-04-23  오후 09:25    <DIR>          __pycache__\n",
      "              14개 파일             158,642 바이트\n",
      "               5개 디렉터리  435,682,492,416 바이트 남음\n",
      "\n"
     ]
    }
   ],
   "source": [
    "print(f.read())"
   ]
  },
  {
   "cell_type": "markdown",
   "metadata": {},
   "source": [
    "* os.mkdir(directory) : create dic\n",
    "* os.rmdir(directory) : delete dic\n",
    "* os.unlink(file) : delete file\n",
    "* os.rename(src, dst) : src->dst"
   ]
  },
  {
   "cell_type": "markdown",
   "metadata": {},
   "source": [
    "## shutil\n",
    "파일을 복사해주는 파이썬 모듈."
   ]
  },
  {
   "cell_type": "code",
   "execution_count": 22,
   "metadata": {},
   "outputs": [
    {
     "data": {
      "text/plain": [
       "'test2.txt'"
      ]
     },
     "execution_count": 22,
     "metadata": {},
     "output_type": "execute_result"
    }
   ],
   "source": [
    "import shutil\n",
    "shutil.copy(\"test.txt\",\"test2.txt\")"
   ]
  },
  {
   "cell_type": "markdown",
   "metadata": {},
   "source": [
    "## glob\n",
    "여러파일을 부를때 * ? 지원"
   ]
  },
  {
   "cell_type": "code",
   "execution_count": 25,
   "metadata": {},
   "outputs": [
    {
     "data": {
      "text/plain": [
       "['.\\\\10_external_function.ipynb',\n",
       " '.\\\\1_number_string.ipynb',\n",
       " '.\\\\2_list_tuple.ipynb',\n",
       " '.\\\\3_dict_set_bool_var.ipynb',\n",
       " '.\\\\4_if_while_for.ipynb',\n",
       " '.\\\\5_function.ipynb',\n",
       " '.\\\\6_IO_FileIO.ipynb',\n",
       " '.\\\\7_class_module.ipynb',\n",
       " '.\\\\8_packages_exception.ipynb',\n",
       " '.\\\\9_built_in_function.ipynb']"
      ]
     },
     "execution_count": 25,
     "metadata": {},
     "output_type": "execute_result"
    }
   ],
   "source": [
    "import glob\n",
    "glob.glob(\"./*.ipynb\")"
   ]
  },
  {
   "cell_type": "markdown",
   "metadata": {},
   "source": [
    "## tempfile\n",
    "파일을 임시로 만들어 사용가능."
   ]
  },
  {
   "cell_type": "code",
   "execution_count": 26,
   "metadata": {},
   "outputs": [
    {
     "data": {
      "text/plain": [
       "'C:\\\\Users\\\\blue4\\\\AppData\\\\Local\\\\Temp\\\\tmp0vpvombd'"
      ]
     },
     "execution_count": 26,
     "metadata": {},
     "output_type": "execute_result"
    }
   ],
   "source": [
    "import tempfile\n",
    "filename = tempfile.mktemp()\n",
    "filename"
   ]
  },
  {
   "cell_type": "code",
   "execution_count": 27,
   "metadata": {},
   "outputs": [],
   "source": [
    "# tempfile.TemporaryFile() : 임시 공간으로 사용될 파일 객체를 리턴하고 f.close()하면 자동 삭제함.\n",
    "f = tempfile.TemporaryFile()\n",
    "f.close()"
   ]
  },
  {
   "cell_type": "markdown",
   "metadata": {},
   "source": [
    "## Time\n",
    "시간과 관련된 모듈"
   ]
  },
  {
   "cell_type": "code",
   "execution_count": 28,
   "metadata": {},
   "outputs": [
    {
     "data": {
      "text/plain": [
       "1556284538.468332"
      ]
     },
     "execution_count": 28,
     "metadata": {},
     "output_type": "execute_result"
    }
   ],
   "source": [
    "# time.time : UTC를 이용하여 현재 시간을 실수로 리턴\n",
    "import time\n",
    "time.time()"
   ]
  },
  {
   "cell_type": "code",
   "execution_count": 29,
   "metadata": {},
   "outputs": [
    {
     "data": {
      "text/plain": [
       "time.struct_time(tm_year=2019, tm_mon=4, tm_mday=26, tm_hour=22, tm_min=18, tm_sec=37, tm_wday=4, tm_yday=116, tm_isdst=0)"
      ]
     },
     "execution_count": 29,
     "metadata": {},
     "output_type": "execute_result"
    }
   ],
   "source": [
    "# time.localtime() : 연도, 월, 일, 시, 분, 초 형태\n",
    "time.localtime(time.time())"
   ]
  },
  {
   "cell_type": "code",
   "execution_count": 30,
   "metadata": {},
   "outputs": [
    {
     "data": {
      "text/plain": [
       "'Fri Apr 26 22:19:47 2019'"
      ]
     },
     "execution_count": 30,
     "metadata": {},
     "output_type": "execute_result"
    }
   ],
   "source": [
    "# time.asctime() : time.localtime에 의해 반환된 튜플 형태의 값을 인수로 날짜와 시간 반환\n",
    "time.asctime(time.localtime(time.time()))"
   ]
  },
  {
   "cell_type": "code",
   "execution_count": 31,
   "metadata": {},
   "outputs": [
    {
     "data": {
      "text/plain": [
       "'Fri Apr 26 22:20:28 2019'"
      ]
     },
     "execution_count": 31,
     "metadata": {},
     "output_type": "execute_result"
    }
   ],
   "source": [
    "# time.ctime() : 현재 시간을 위와 같은 형태로 리턴\n",
    "time.ctime()"
   ]
  },
  {
   "cell_type": "code",
   "execution_count": 34,
   "metadata": {},
   "outputs": [
    {
     "data": {
      "text/plain": [
       "'04/26/19'"
      ]
     },
     "execution_count": 34,
     "metadata": {},
     "output_type": "execute_result"
    }
   ],
   "source": [
    "#time.strftime('형식',time.localtime())\n",
    "time.strftime('%x',time.localtime(time.time()))"
   ]
  },
  {
   "cell_type": "code",
   "execution_count": 36,
   "metadata": {},
   "outputs": [
    {
     "name": "stdout",
     "output_type": "stream",
     "text": [
      "Fri Apr 26 22:32:55 2019\n",
      "Fri Apr 26 22:33:00 2019\n",
      "Fri Apr 26 22:33:05 2019\n"
     ]
    }
   ],
   "source": [
    "#time.sleep : 일정한 시간 wait를 하기위함.\n",
    "for i in range(3):\n",
    "    print(time.ctime())\n",
    "    time.sleep(5)"
   ]
  },
  {
   "cell_type": "markdown",
   "metadata": {},
   "source": [
    "## calendar\n",
    "달력 모듈"
   ]
  },
  {
   "cell_type": "code",
   "execution_count": 38,
   "metadata": {},
   "outputs": [
    {
     "name": "stdout",
     "output_type": "stream",
     "text": [
      "                                  2019\n",
      "\n",
      "      January                   February                   March\n",
      "Mo Tu We Th Fr Sa Su      Mo Tu We Th Fr Sa Su      Mo Tu We Th Fr Sa Su\n",
      "    1  2  3  4  5  6                   1  2  3                   1  2  3\n",
      " 7  8  9 10 11 12 13       4  5  6  7  8  9 10       4  5  6  7  8  9 10\n",
      "14 15 16 17 18 19 20      11 12 13 14 15 16 17      11 12 13 14 15 16 17\n",
      "21 22 23 24 25 26 27      18 19 20 21 22 23 24      18 19 20 21 22 23 24\n",
      "28 29 30 31               25 26 27 28               25 26 27 28 29 30 31\n",
      "\n",
      "       April                      May                       June\n",
      "Mo Tu We Th Fr Sa Su      Mo Tu We Th Fr Sa Su      Mo Tu We Th Fr Sa Su\n",
      " 1  2  3  4  5  6  7             1  2  3  4  5                      1  2\n",
      " 8  9 10 11 12 13 14       6  7  8  9 10 11 12       3  4  5  6  7  8  9\n",
      "15 16 17 18 19 20 21      13 14 15 16 17 18 19      10 11 12 13 14 15 16\n",
      "22 23 24 25 26 27 28      20 21 22 23 24 25 26      17 18 19 20 21 22 23\n",
      "29 30                     27 28 29 30 31            24 25 26 27 28 29 30\n",
      "\n",
      "        July                     August                  September\n",
      "Mo Tu We Th Fr Sa Su      Mo Tu We Th Fr Sa Su      Mo Tu We Th Fr Sa Su\n",
      " 1  2  3  4  5  6  7                1  2  3  4                         1\n",
      " 8  9 10 11 12 13 14       5  6  7  8  9 10 11       2  3  4  5  6  7  8\n",
      "15 16 17 18 19 20 21      12 13 14 15 16 17 18       9 10 11 12 13 14 15\n",
      "22 23 24 25 26 27 28      19 20 21 22 23 24 25      16 17 18 19 20 21 22\n",
      "29 30 31                  26 27 28 29 30 31         23 24 25 26 27 28 29\n",
      "                                                    30\n",
      "\n",
      "      October                   November                  December\n",
      "Mo Tu We Th Fr Sa Su      Mo Tu We Th Fr Sa Su      Mo Tu We Th Fr Sa Su\n",
      "    1  2  3  4  5  6                   1  2  3                         1\n",
      " 7  8  9 10 11 12 13       4  5  6  7  8  9 10       2  3  4  5  6  7  8\n",
      "14 15 16 17 18 19 20      11 12 13 14 15 16 17       9 10 11 12 13 14 15\n",
      "21 22 23 24 25 26 27      18 19 20 21 22 23 24      16 17 18 19 20 21 22\n",
      "28 29 30 31               25 26 27 28 29 30         23 24 25 26 27 28 29\n",
      "                                                    30 31\n",
      "\n"
     ]
    }
   ],
   "source": [
    "import calendar\n",
    "print(calendar.calendar(2019))"
   ]
  },
  {
   "cell_type": "code",
   "execution_count": 39,
   "metadata": {},
   "outputs": [
    {
     "name": "stdout",
     "output_type": "stream",
     "text": [
      "     April 2019\n",
      "Mo Tu We Th Fr Sa Su\n",
      " 1  2  3  4  5  6  7\n",
      " 8  9 10 11 12 13 14\n",
      "15 16 17 18 19 20 21\n",
      "22 23 24 25 26 27 28\n",
      "29 30\n"
     ]
    }
   ],
   "source": [
    "calendar.prmonth(2019,4)"
   ]
  },
  {
   "cell_type": "code",
   "execution_count": 40,
   "metadata": {},
   "outputs": [
    {
     "data": {
      "text/plain": [
       "5"
      ]
     },
     "execution_count": 40,
     "metadata": {},
     "output_type": "execute_result"
    }
   ],
   "source": [
    "# calendar.weekday : 요일정보 리턴(월요일:0 ..)\n",
    "calendar.weekday(2019,4,27)"
   ]
  },
  {
   "cell_type": "code",
   "execution_count": 41,
   "metadata": {},
   "outputs": [
    {
     "data": {
      "text/plain": [
       "(0, 30)"
      ]
     },
     "execution_count": 41,
     "metadata": {},
     "output_type": "execute_result"
    }
   ],
   "source": [
    "# calendar.monthrange(년,월) : 1의 요일과 몇일까지 있는지 리턴\n",
    "calendar.monthrange(2019,4)"
   ]
  },
  {
   "cell_type": "markdown",
   "metadata": {},
   "source": [
    "## random\n",
    "난수 생성"
   ]
  },
  {
   "cell_type": "code",
   "execution_count": 43,
   "metadata": {},
   "outputs": [
    {
     "data": {
      "text/plain": [
       "0.1403572888266862"
      ]
     },
     "execution_count": 43,
     "metadata": {},
     "output_type": "execute_result"
    }
   ],
   "source": [
    "import random\n",
    "#random.random : 0.0 ~ 1.0 실수 중 난수 리턴\n",
    "random.random()"
   ]
  },
  {
   "cell_type": "code",
   "execution_count": 44,
   "metadata": {},
   "outputs": [
    {
     "data": {
      "text/plain": [
       "15"
      ]
     },
     "execution_count": 44,
     "metadata": {},
     "output_type": "execute_result"
    }
   ],
   "source": [
    "#random.randint(a,b) : a ~ b 사이 정수 중 난수 리턴\n",
    "random.randint(1,60)"
   ]
  },
  {
   "cell_type": "code",
   "execution_count": 45,
   "metadata": {},
   "outputs": [
    {
     "name": "stdout",
     "output_type": "stream",
     "text": [
      "2\n",
      "3\n",
      "4\n",
      "5\n",
      "1\n"
     ]
    }
   ],
   "source": [
    "def random_pop(data):\n",
    "    number =random.randint(0,len(data)-1)\n",
    "    return data.pop(number)\n",
    "\n",
    "data = [1,2,3,4,5]\n",
    "while data:\n",
    "    print(random_pop(data))"
   ]
  },
  {
   "cell_type": "code",
   "execution_count": 46,
   "metadata": {},
   "outputs": [
    {
     "name": "stdout",
     "output_type": "stream",
     "text": [
      "2\n",
      "5\n",
      "1\n",
      "4\n",
      "3\n"
     ]
    }
   ],
   "source": [
    "def random_pop(data):\n",
    "    number =random.choice(data)\n",
    "    data.remove(number)\n",
    "    return number\n",
    "\n",
    "data = [1,2,3,4,5]\n",
    "while data:\n",
    "    print(random_pop(data))"
   ]
  },
  {
   "cell_type": "markdown",
   "metadata": {},
   "source": [
    "## webbrowser\n",
    "기본 웹 브라우저를 실행되게 하는 모듈"
   ]
  },
  {
   "cell_type": "code",
   "execution_count": 47,
   "metadata": {},
   "outputs": [
    {
     "data": {
      "text/plain": [
       "True"
      ]
     },
     "execution_count": 47,
     "metadata": {},
     "output_type": "execute_result"
    }
   ],
   "source": [
    "import webbrowser\n",
    "webbrowser.open_new(\"http://zum.com\")"
   ]
  },
  {
   "cell_type": "markdown",
   "metadata": {},
   "source": [
    "## Thread"
   ]
  },
  {
   "cell_type": "code",
   "execution_count": 49,
   "metadata": {},
   "outputs": [
    {
     "name": "stdout",
     "output_type": "stream",
     "text": [
      "Start\n",
      "0 : Sun Apr 28 00:04:14 2019\n",
      "1 : Sun Apr 28 00:04:16 2019\n",
      "2 : Sun Apr 28 00:04:18 2019\n",
      "0 : Sun Apr 28 00:04:20 2019\n",
      "1 : Sun Apr 28 00:04:22 2019\n",
      "2 : Sun Apr 28 00:04:24 2019\n",
      "0 : Sun Apr 28 00:04:26 2019\n",
      "1 : Sun Apr 28 00:04:28 2019\n",
      "2 : Sun Apr 28 00:04:30 2019\n",
      "0 : Sun Apr 28 00:04:32 2019\n",
      "1 : Sun Apr 28 00:04:34 2019\n",
      "2 : Sun Apr 28 00:04:36 2019\n",
      "0 : Sun Apr 28 00:04:38 2019\n",
      "1 : Sun Apr 28 00:04:40 2019\n",
      "2 : Sun Apr 28 00:04:42 2019\n",
      "END\n"
     ]
    }
   ],
   "source": [
    "import time\n",
    "\n",
    "def long_task():\n",
    "    for i in range(3):\n",
    "        time.sleep(2)\n",
    "        print(\"%s : %s\" % (i, time.asctime()))\n",
    "\n",
    "print(\"Start\")\n",
    "for i in range(5):\n",
    "    long_task()\n",
    "\n",
    "print(\"END\")"
   ]
  },
  {
   "cell_type": "code",
   "execution_count": 50,
   "metadata": {},
   "outputs": [
    {
     "name": "stdout",
     "output_type": "stream",
     "text": [
      "Start\n",
      "END\n",
      "0 : Sun Apr 28 00:05:55 20190 : Sun Apr 28 00:05:55 20190 : Sun Apr 28 00:05:55 2019\n",
      "\n",
      "0 : Sun Apr 28 00:05:55 2019\n",
      "\n",
      "0 : Sun Apr 28 00:05:55 2019\n",
      "1 : Sun Apr 28 00:05:57 20191 : Sun Apr 28 00:05:57 2019\n",
      "\n",
      "1 : Sun Apr 28 00:05:57 2019\n",
      "1 : Sun Apr 28 00:05:57 20191 : Sun Apr 28 00:05:57 2019\n",
      "\n",
      "2 : Sun Apr 28 00:05:59 20192 : Sun Apr 28 00:05:59 2019\n",
      "\n",
      "2 : Sun Apr 28 00:05:59 2019\n",
      "2 : Sun Apr 28 00:05:59 20192 : Sun Apr 28 00:05:59 2019\n",
      "\n"
     ]
    }
   ],
   "source": [
    "import time\n",
    "import threading\n",
    "\n",
    "def long_task():\n",
    "    for i in range(3):\n",
    "        time.sleep(2)\n",
    "        print(\"%s : %s\" % (i, time.asctime()))\n",
    "\n",
    "print(\"Start\")\n",
    "\n",
    "threads = []\n",
    "for i in range(5):\n",
    "    t = threading.Thread(target=long_task)\n",
    "    threads.append(t)\n",
    "\n",
    "for t in threads:\n",
    "    t.start()\n",
    "\n",
    "print(\"END\")"
   ]
  },
  {
   "cell_type": "code",
   "execution_count": 52,
   "metadata": {},
   "outputs": [
    {
     "name": "stdout",
     "output_type": "stream",
     "text": [
      "Start\n",
      "0 : Mon Apr 29 22:10:25 20190 : Mon Apr 29 22:10:25 20190 : Mon Apr 29 22:10:25 20190 : Mon Apr 29 22:10:26 2019\n",
      "\n",
      "\n",
      "\n",
      "0 : Mon Apr 29 22:10:26 2019\n",
      "1 : Mon Apr 29 22:10:28 20191 : Mon Apr 29 22:10:28 20191 : Mon Apr 29 22:10:28 2019\n",
      "\n",
      "\n",
      "1 : Mon Apr 29 22:10:28 2019\n",
      "1 : Mon Apr 29 22:10:28 2019\n",
      "2 : Mon Apr 29 22:10:30 20192 : Mon Apr 29 22:10:30 20192 : Mon Apr 29 22:10:30 2019\n",
      "2 : Mon Apr 29 22:10:30 2019\n",
      "\n",
      "\n",
      "2 : Mon Apr 29 22:10:30 2019\n",
      "END\n"
     ]
    }
   ],
   "source": [
    "import time\n",
    "import threading\n",
    "\n",
    "def long_task():\n",
    "    for i in range(3):\n",
    "        time.sleep(2)\n",
    "        print(\"%s : %s\" % (i, time.asctime()))\n",
    "\n",
    "print(\"Start\")\n",
    "\n",
    "threads = []\n",
    "for i in range(5):\n",
    "    t = threading.Thread(target=long_task)\n",
    "    threads.append(t)\n",
    "\n",
    "for t in threads:\n",
    "    t.start()\n",
    "\n",
    "for t in threads:\n",
    "    t.join()\n",
    "\n",
    "print(\"END\")"
   ]
  }
 ],
 "metadata": {
  "kernelspec": {
   "display_name": "Python 3",
   "language": "python",
   "name": "python3"
  },
  "language_info": {
   "codemirror_mode": {
    "name": "ipython",
    "version": 3
   },
   "file_extension": ".py",
   "mimetype": "text/x-python",
   "name": "python",
   "nbconvert_exporter": "python",
   "pygments_lexer": "ipython3",
   "version": "3.7.1"
  }
 },
 "nbformat": 4,
 "nbformat_minor": 2
}
