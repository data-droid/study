{
 "cells": [
  {
   "cell_type": "markdown",
   "metadata": {},
   "source": [
    "# IF"
   ]
  },
  {
   "cell_type": "code",
   "execution_count": 2,
   "metadata": {},
   "outputs": [
    {
     "name": "stdout",
     "output_type": "stream",
     "text": [
      "Taxi!!\n"
     ]
    }
   ],
   "source": [
    "money = True\n",
    "if money:\n",
    "    print(\"Taxi!!\")\n",
    "else :\n",
    "    print(\"Walking...\")"
   ]
  },
  {
   "cell_type": "code",
   "execution_count": 3,
   "metadata": {},
   "outputs": [
    {
     "name": "stdout",
     "output_type": "stream",
     "text": [
      "Walkingㅜㅜ\n"
     ]
    }
   ],
   "source": [
    "money = 2000\n",
    "if money >= 3000:\n",
    "    print(\"Taxi !!!\")\n",
    "else :\n",
    "    print(\"Walkingㅜㅜ\")"
   ]
  },
  {
   "cell_type": "code",
   "execution_count": 4,
   "metadata": {},
   "outputs": [
    {
     "name": "stdout",
     "output_type": "stream",
     "text": [
      "Taxi !!!\n"
     ]
    }
   ],
   "source": [
    "money = 2000\n",
    "card = True\n",
    "if money >= 3000 or card:\n",
    "    print(\"Taxi !!!\")\n",
    "else :\n",
    "    print(\"Walkingㅜㅜ\")"
   ]
  },
  {
   "cell_type": "code",
   "execution_count": 5,
   "metadata": {},
   "outputs": [
    {
     "name": "stdout",
     "output_type": "stream",
     "text": [
      "Taxi !!!\n"
     ]
    }
   ],
   "source": [
    "pocket = ['paper','cellphone','money']\n",
    "if 'money' in pocket:\n",
    "    print(\"Taxi !!!\")\n",
    "else :\n",
    "    print(\"Walking ㅜㅜ\")"
   ]
  },
  {
   "cell_type": "code",
   "execution_count": 6,
   "metadata": {},
   "outputs": [],
   "source": [
    "pocket = ['paper','cellphone','money']\n",
    "if 'money' in pocket:\n",
    "    pass\n",
    "else :\n",
    "    print(\"Walking ㅜㅜ\")"
   ]
  },
  {
   "cell_type": "code",
   "execution_count": 7,
   "metadata": {},
   "outputs": [
    {
     "name": "stdout",
     "output_type": "stream",
     "text": [
      "card Taxi !!!\n"
     ]
    }
   ],
   "source": [
    "pocket = ['paper','cellphone']\n",
    "card = True\n",
    "if 'money' in pocket:\n",
    "    print(\"Taxi !!!\")\n",
    "elif card:\n",
    "    print(\"card Taxi !!!\")\n",
    "else :\n",
    "    print(\"Walking ㅜㅜ\")"
   ]
  },
  {
   "cell_type": "code",
   "execution_count": 8,
   "metadata": {},
   "outputs": [],
   "source": [
    "pocket = ['paper','cellphone','money']\n",
    "if 'money' in pocket: pass\n",
    "else : print(\"Card!\")"
   ]
  },
  {
   "cell_type": "code",
   "execution_count": 10,
   "metadata": {},
   "outputs": [
    {
     "data": {
      "text/plain": [
       "'failure'"
      ]
     },
     "execution_count": 10,
     "metadata": {},
     "output_type": "execute_result"
    }
   ],
   "source": [
    "score = 50\n",
    "if score >= 60:\n",
    "    message = \"success\"\n",
    "else:\n",
    "    message = \"failure\"\n",
    "message"
   ]
  },
  {
   "cell_type": "code",
   "execution_count": 12,
   "metadata": {},
   "outputs": [
    {
     "data": {
      "text/plain": [
       "'failure'"
      ]
     },
     "execution_count": 12,
     "metadata": {},
     "output_type": "execute_result"
    }
   ],
   "source": [
    "message = \"success\" if score>=60 else \"failure\"\n",
    "message"
   ]
  },
  {
   "cell_type": "markdown",
   "metadata": {},
   "source": [
    "# While"
   ]
  },
  {
   "cell_type": "code",
   "execution_count": 14,
   "metadata": {},
   "outputs": [
    {
     "name": "stdout",
     "output_type": "stream",
     "text": [
      "Hit Tree (1)\n",
      "Hit Tree (2)\n",
      "Hit Tree (3)\n",
      "Hit Tree (4)\n",
      "Hit Tree (5)\n",
      "Hit Tree (6)\n",
      "Hit Tree (7)\n",
      "Hit Tree (8)\n",
      "Hit Tree (9)\n",
      "Hit Tree (10)\n",
      "Wow\n"
     ]
    }
   ],
   "source": [
    "treeHit = 0\n",
    "while treeHit < 10:\n",
    "    treeHit+=1\n",
    "    print(\"Hit Tree ({0})\".format(treeHit))\n",
    "    if treeHit == 10:\n",
    "        print(\"Wow\")"
   ]
  },
  {
   "cell_type": "code",
   "execution_count": 17,
   "metadata": {},
   "outputs": [
    {
     "name": "stdout",
     "output_type": "stream",
     "text": [
      "\n",
      "1. Add\n",
      "2. Del\n",
      "3. List\n",
      "4. Quit\n",
      "\n",
      "Enter number: \n",
      "1\n",
      "\n",
      "1. Add\n",
      "2. Del\n",
      "3. List\n",
      "4. Quit\n",
      "\n",
      "Enter number: \n",
      "4\n"
     ]
    }
   ],
   "source": [
    "prompt=\"\"\"\n",
    "1. Add\n",
    "2. Del\n",
    "3. List\n",
    "4. Quit\n",
    "\n",
    "Enter number: \"\"\"\n",
    "\n",
    "number = 0\n",
    "while number !=4:\n",
    "    print(prompt)\n",
    "    number =int(input())"
   ]
  },
  {
   "cell_type": "code",
   "execution_count": 18,
   "metadata": {
    "scrolled": true
   },
   "outputs": [
    {
     "name": "stdout",
     "output_type": "stream",
     "text": [
      "Here Coffee!\n",
      "Coffe left 9\n",
      "Here Coffee!\n",
      "Coffe left 8\n",
      "Here Coffee!\n",
      "Coffe left 7\n",
      "Here Coffee!\n",
      "Coffe left 6\n",
      "Here Coffee!\n",
      "Coffe left 5\n",
      "Here Coffee!\n",
      "Coffe left 4\n",
      "Here Coffee!\n",
      "Coffe left 3\n",
      "Here Coffee!\n",
      "Coffe left 2\n",
      "Here Coffee!\n",
      "Coffe left 1\n",
      "Here Coffee!\n",
      "Coffe left 0\n",
      "No more Coffee. Sold Out\n"
     ]
    }
   ],
   "source": [
    "coffee = 10\n",
    "money = 300\n",
    "while money :\n",
    "    print(\"Here Coffee!\")\n",
    "    coffee-=1\n",
    "    print(\"Coffe left {0}\".format(coffee))\n",
    "    if coffee == 0:\n",
    "        print(\"No more Coffee. Sold Out\")\n",
    "        break"
   ]
  },
  {
   "cell_type": "code",
   "execution_count": 24,
   "metadata": {},
   "outputs": [
    {
     "name": "stdout",
     "output_type": "stream",
     "text": [
      "Show me the money: 300\n",
      "Here you are\n",
      "Show me the money: 333\n",
      "charge 33 and Here you are\n",
      "Show me the money: 100\n",
      "You can't buy. Here 100.\n",
      "1 coffee left\n",
      "Show me the money: 333\n",
      "charge 33 and Here you are\n",
      "Sold out\n"
     ]
    }
   ],
   "source": [
    "coffee = 3\n",
    "while True:\n",
    "    money = int(input(\"Show me the money: \"))\n",
    "    if money == 300:\n",
    "        print(\"Here you are\")\n",
    "        coffee -=1\n",
    "    elif money > 300:\n",
    "        print(\"charge {0} and Here you are\".format(money-300))\n",
    "        coffee -=1\n",
    "    else:\n",
    "        print(\"You can't buy. Here {0}.\".format(money))\n",
    "        print(\"{0} coffee left\".format(coffee))\n",
    "    if not coffee:\n",
    "        print(\"Sold out\")\n",
    "        break;"
   ]
  },
  {
   "cell_type": "code",
   "execution_count": 25,
   "metadata": {},
   "outputs": [
    {
     "name": "stdout",
     "output_type": "stream",
     "text": [
      "1\n",
      "3\n",
      "5\n",
      "7\n",
      "9\n"
     ]
    }
   ],
   "source": [
    "a=0\n",
    "while a<10:\n",
    "    a+=1\n",
    "    if a%2 == 0: continue\n",
    "    print(a)"
   ]
  },
  {
   "cell_type": "markdown",
   "metadata": {},
   "source": [
    "# For"
   ]
  },
  {
   "cell_type": "code",
   "execution_count": 26,
   "metadata": {},
   "outputs": [
    {
     "name": "stdout",
     "output_type": "stream",
     "text": [
      "one\n",
      "two\n",
      "three\n"
     ]
    }
   ],
   "source": [
    "test_list=['one','two','three']\n",
    "for i in test_list:\n",
    "    print(i)"
   ]
  },
  {
   "cell_type": "code",
   "execution_count": 27,
   "metadata": {},
   "outputs": [
    {
     "name": "stdout",
     "output_type": "stream",
     "text": [
      "3\n",
      "7\n",
      "11\n"
     ]
    }
   ],
   "source": [
    "a = [(1,2),(3,4),(5,6)]\n",
    "for (first,second) in a:\n",
    "    print(first+second)"
   ]
  },
  {
   "cell_type": "code",
   "execution_count": 28,
   "metadata": {},
   "outputs": [
    {
     "name": "stdout",
     "output_type": "stream",
     "text": [
      "1 Succees\n",
      "2 Fail\n",
      "3 Succees\n",
      "4 Fail\n",
      "5 Succees\n"
     ]
    }
   ],
   "source": [
    "marks = [90,25,67,45,80]\n",
    "number= 0\n",
    "for mark in marks : \n",
    "    number += 1\n",
    "    if mark >=60:\n",
    "        print(\"%d Succees\" % number)\n",
    "    else :\n",
    "        print(\"%d Fail\" % number)"
   ]
  },
  {
   "cell_type": "code",
   "execution_count": 29,
   "metadata": {},
   "outputs": [
    {
     "name": "stdout",
     "output_type": "stream",
     "text": [
      "1 Success\n",
      "3 Success\n",
      "5 Success\n"
     ]
    }
   ],
   "source": [
    "marks = [90,25,67,45,80]\n",
    "number= 0\n",
    "for mark in marks : \n",
    "    number += 1\n",
    "    if mark < 60:\n",
    "        continue\n",
    "    print(\"%d Success\" % number)"
   ]
  },
  {
   "cell_type": "code",
   "execution_count": 32,
   "metadata": {},
   "outputs": [
    {
     "data": {
      "text/plain": [
       "range(0, 10)"
      ]
     },
     "execution_count": 32,
     "metadata": {},
     "output_type": "execute_result"
    }
   ],
   "source": [
    "a = range(10)\n",
    "a"
   ]
  },
  {
   "cell_type": "code",
   "execution_count": 34,
   "metadata": {},
   "outputs": [
    {
     "data": {
      "text/plain": [
       "range(1, 11)"
      ]
     },
     "execution_count": 34,
     "metadata": {},
     "output_type": "execute_result"
    }
   ],
   "source": [
    "a = range(1,11)\n",
    "a"
   ]
  },
  {
   "cell_type": "code",
   "execution_count": 36,
   "metadata": {},
   "outputs": [
    {
     "name": "stdout",
     "output_type": "stream",
     "text": [
      "55\n"
     ]
    }
   ],
   "source": [
    "sum=0\n",
    "for i in range(1,11):\n",
    "    sum+=i\n",
    "print(sum)"
   ]
  },
  {
   "cell_type": "code",
   "execution_count": 39,
   "metadata": {},
   "outputs": [
    {
     "name": "stdout",
     "output_type": "stream",
     "text": [
      "1 Success\n",
      "3 Success\n",
      "5 Success\n"
     ]
    }
   ],
   "source": [
    "marks = [90,25,67,45,80]\n",
    "for number in range(len(marks)):\n",
    "    if marks[number] < 60 :\n",
    "        continue\n",
    "    print(\"%d Success\" % (number+1))"
   ]
  },
  {
   "cell_type": "code",
   "execution_count": 40,
   "metadata": {},
   "outputs": [
    {
     "name": "stdout",
     "output_type": "stream",
     "text": [
      "2 4 6 8 10 12 14 16 18 \n",
      "3 6 9 12 15 18 21 24 27 \n",
      "4 8 12 16 20 24 28 32 36 \n",
      "5 10 15 20 25 30 35 40 45 \n",
      "6 12 18 24 30 36 42 48 54 \n",
      "7 14 21 28 35 42 49 56 63 \n",
      "8 16 24 32 40 48 56 64 72 \n",
      "9 18 27 36 45 54 63 72 81 \n"
     ]
    }
   ],
   "source": [
    "for i in range(2,10):\n",
    "    for j in range(1,10):\n",
    "        print(i*j, end=\" \")\n",
    "    print('')"
   ]
  },
  {
   "cell_type": "code",
   "execution_count": 42,
   "metadata": {},
   "outputs": [
    {
     "data": {
      "text/plain": [
       "[3, 6, 9, 12]"
      ]
     },
     "execution_count": 42,
     "metadata": {},
     "output_type": "execute_result"
    }
   ],
   "source": [
    "a = [1,2,3,4]\n",
    "result = []\n",
    "for num in a:\n",
    "    result.append(num*3)\n",
    "result"
   ]
  },
  {
   "cell_type": "code",
   "execution_count": 43,
   "metadata": {},
   "outputs": [
    {
     "data": {
      "text/plain": [
       "[3, 6, 9, 12]"
      ]
     },
     "execution_count": 43,
     "metadata": {},
     "output_type": "execute_result"
    }
   ],
   "source": [
    "a = [1,2,3,4]\n",
    "result = [num*3 for num in a]\n",
    "result"
   ]
  },
  {
   "cell_type": "code",
   "execution_count": 44,
   "metadata": {},
   "outputs": [
    {
     "data": {
      "text/plain": [
       "[6, 12]"
      ]
     },
     "execution_count": 44,
     "metadata": {},
     "output_type": "execute_result"
    }
   ],
   "source": [
    "a = [1,2,3,4]\n",
    "result = [num*3 for num in a if num%2==0]\n",
    "result"
   ]
  },
  {
   "cell_type": "code",
   "execution_count": 47,
   "metadata": {},
   "outputs": [
    {
     "name": "stdout",
     "output_type": "stream",
     "text": [
      "[2, 6, 10, 14, 18, 4, 12, 20, 28, 36, 6, 18, 30, 42, 54, 8, 24, 40, 56, 72]\n"
     ]
    }
   ],
   "source": [
    "result = [x*y for x in range(2,10) if x%2==0\n",
    "             for y in range(1,10) if y%2==1]\n",
    "print(result)"
   ]
  },
  {
   "cell_type": "code",
   "execution_count": null,
   "metadata": {},
   "outputs": [],
   "source": []
  }
 ],
 "metadata": {
  "kernelspec": {
   "display_name": "Python 3",
   "language": "python",
   "name": "python3"
  },
  "language_info": {
   "codemirror_mode": {
    "name": "ipython",
    "version": 3
   },
   "file_extension": ".py",
   "mimetype": "text/x-python",
   "name": "python",
   "nbconvert_exporter": "python",
   "pygments_lexer": "ipython3",
   "version": "3.7.1"
  }
 },
 "nbformat": 4,
 "nbformat_minor": 2
}
