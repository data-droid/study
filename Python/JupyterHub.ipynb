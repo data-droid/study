{
 "cells": [
  {
   "cell_type": "markdown",
   "metadata": {},
   "source": [
    "## Make Env For Python ( CentOS )\n",
    "* Install Anaconda\n",
    "* Install JupyterHub\n",
    "* Setting For Multi Users\n",
    "* Using R, Private Conda "
   ]
  },
  {
   "cell_type": "markdown",
   "metadata": {},
   "source": [
    "### Install Anaconda\n",
    "```bash\n",
    "# Download Anaconda\n",
    "wget https://repo.anaconda.com/archive/Anaconda3-2019.03-Linux-x86_64.sh\n",
    "sha256sum Anaconda3-2019.03-Linux-x86_64.sh\n",
    "chmod +x Anaconda3-2019.03-Linux-x86_64.sh\n",
    "\n",
    "# Make Global Directory For Anaconda\n",
    "sudo mkdir /opt/anaconda\n",
    "sudo chmod ugo+w /opt/anaconda/\n",
    "\n",
    "# Install Anaconda\n",
    "./Anaconda3-2019.03-Linux-x86_64.sh\n",
    "# !Set Path -> \"/opt/anaconda/anaconda3\"\n",
    "```"
   ]
  },
  {
   "cell_type": "markdown",
   "metadata": {},
   "source": [
    "### Install JupyterHub\n",
    "```bash\n",
    "# Insatll JupyterHub\n",
    "conda install -c conda-forge jupyterhub\n",
    "\n",
    "# Generate Configuration\n",
    "jupyterhub --generate-config\n",
    "\n",
    "# Setting Configuration\n",
    "vi jupyterhub_config.py\n",
    "# 1. Setting ip\n",
    "# c.JupyterHub.hub_ip = '0.0.0.0'\n",
    "# 2. Setting port\n",
    "# c.JupyterHub.port = 80\n",
    "# 3. Setting Spawner.cmd\n",
    "# c.Spawner.cmd = ['/opt/anaconda/anaconda3/bin/jupyterhub-singleuser']\n",
    "# 4. Setting default path\n",
    "# c.Spawner.default_url = '/lab'\n",
    "\n",
    "# Move configure\n",
    "mkdir /etc/jupyterhub\n",
    "mv jupyterhub_config.py /etc/jupyterhub/\n",
    "# Start JupyterHub\n",
    "sudo nohup /opt/anaconda/anaconda3/bin/jupyterhub -f /etc/jupyterhub/jupyterhub_config.py &\n",
    "```"
   ]
  },
  {
   "cell_type": "markdown",
   "metadata": {},
   "source": [
    "### Add USERS in CentOS\n",
    "```bash\n",
    "sudo useradd test\n",
    "sudo passwd test\n",
    "sudo useradd test2\n",
    "sudo passwd test2\n",
    "...\n",
    "```"
   ]
  },
  {
   "cell_type": "markdown",
   "metadata": {},
   "source": [
    "### Setting Private Kernel\n",
    "```bash\n",
    "# Setting Anaconda Bin Path\n",
    "sudo vi /etc/profile\n",
    "\n",
    "# add\n",
    "#    # >>> conda initialize >>>\n",
    "#    # !! Contents within this block are managed by 'conda init' !!\n",
    "#    __conda_setup=\"$('/opt/anaconda/anaconda3/bin/conda' 'shell.bash' 'hook' 2> /dev/null)\"\n",
    "#    if [ $? -eq 0 ]; then\n",
    "#        eval \"$__conda_setup\"\n",
    "#    else\n",
    "#        if [ -f \"/opt/anaconda/anaconda3/etc/profile.d/conda.sh\" ]; then\n",
    "#            . \"/opt/anaconda/anaconda3/etc/profile.d/conda.sh\"\n",
    "#        else\n",
    "#            export PATH=\"/opt/anaconda/anaconda3/bin:$PATH\"\n",
    "#        fi\n",
    "#    fi\n",
    "#    unset __conda_setup\n",
    "#    # <<< conda initialize <<<\n",
    "\n",
    "# Install ipykernel\n",
    "conda install ipykernel\n",
    "\n",
    "# Go test user\n",
    "su test\n",
    "\n",
    "# Create Conda env\n",
    "conda create -n test\n",
    "\n",
    "# 만약 root의 환경을 그대로 받아오고 싶으면 \n",
    "# conda create --name test --clone root\n",
    "\n",
    "# Install nb_conda_kernels\n",
    "conda install nb_conda_kernels\n",
    "\n",
    "# Setting Kernels\n",
    "python -m ipykernel install --user --name test --display-name \"test\"\n",
    "```"
   ]
  },
  {
   "cell_type": "markdown",
   "metadata": {},
   "source": [
    "### Using R\n",
    "```\n",
    "# Install R\n",
    "sudo yum install R\n",
    "\n",
    "# Install R devTools\n",
    "r) install.packages(\"devtools\")\n",
    "r) devtools::install_github(\"IRkernel/IRkernel\")\n",
    "r) IRKernel::installspec()\n",
    "\n",
    "```"
   ]
  },
  {
   "cell_type": "markdown",
   "metadata": {},
   "source": [
    "### Connect To Mysql in Python\n",
    "```bash\n",
    "# Install \n",
    "conda install PyMySQL\n",
    "```\n",
    "\n",
    "```python\n",
    "# import\n",
    "import mysql\n",
    "import pandas as pd\n",
    "\n",
    "connection = pymysql.connect(host=localhost,user='user',password='passwd',db='database',charset='utf8',autocommit=True,cursorclass=pymysql.cursors.DictCursor)\n",
    "df = pd.read_sql(\"show databases\", connection)\n",
    "```"
   ]
  },
  {
   "cell_type": "markdown",
   "metadata": {},
   "source": [
    "## Connect To Hive in Python\n",
    "```bash\n",
    "# Install\n",
    "yum install libsasl2-dev\n",
    "\n",
    "conda install sasl\n",
    "conda install thrift\n",
    "conda install thrift-sasl\n",
    "conda install PyHive\n",
    "```\n",
    "\n",
    "```python\n",
    "# Python\n",
    "from pyhive import hive\n",
    "import pandas as pd\n",
    "\n",
    "connection = hive.Connection(host=Hiveserver2, port=10000, username='user')\n",
    "df = pd.read_sql(\"show databases\", connection)\n",
    "```"
   ]
  }
 ],
 "metadata": {
  "kernelspec": {
   "display_name": "Python 3",
   "language": "python",
   "name": "python3"
  },
  "language_info": {
   "codemirror_mode": {
    "name": "ipython",
    "version": 3
   },
   "file_extension": ".py",
   "mimetype": "text/x-python",
   "name": "python",
   "nbconvert_exporter": "python",
   "pygments_lexer": "ipython3",
   "version": "3.7.3"
  }
 },
 "nbformat": 4,
 "nbformat_minor": 2
}
