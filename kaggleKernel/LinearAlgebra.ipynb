{
 "cells": [
  {
   "cell_type": "markdown",
   "metadata": {},
   "source": [
    "# [Linear Algebra for Data Scientists](https://www.kaggle.com/mjbahmani/linear-algebra-for-data-scientists)\n",
    "\n",
    "데이터 사이언티스트에게 필요한 선대수의 기본 개념을 알아보자!\n",
    "![](https://camo.githubusercontent.com/e42ea0e40062cc1e339a6b90054bfbe62be64402/68747470733a2f2f63646e2e646973636f72646170702e636f6d2f6174746163686d656e74732f3339313937313830393536333530383733382f3434323635393336333534333331383532382f7363616c61722d766563746f722d6d61747269782d74656e736f722e706e67)"
   ]
  },
  {
   "cell_type": "code",
   "execution_count": 1,
   "metadata": {},
   "outputs": [],
   "source": [
    "# Import\n",
    "import matplotlib.patches as patch\n",
    "import matplotlib.pyplot as plt\n",
    "from scipy.stats import norm\n",
    "from scipy import linalg\n",
    "from numpy import poly1d\n",
    "from sklearn import svm\n",
    "import tensorflow as tf\n",
    "import pandas as pd\n",
    "import numpy as np\n",
    "import glob\n",
    "import sys\n",
    "import os"
   ]
  },
  {
   "cell_type": "code",
   "execution_count": 2,
   "metadata": {},
   "outputs": [],
   "source": [
    "# Setup\n",
    "%matplotlib inline\n",
    "%precision 4\n",
    "plt.style.use('ggplot')\n",
    "np.set_printoptions(suppress=True)"
   ]
  },
  {
   "cell_type": "markdown",
   "metadata": {},
   "source": [
    "### 선형대수(Linear Algebra)란?\n",
    "![](https://wikimedia.org/api/rest_v1/media/math/render/svg/f4f0f2986d54c01f3bccf464d266dfac923c80f3)위와 같은 선형 방정식 관련 수학분야 중 하나이며 수학의 모든 영역에서 중심.\n",
    "![](https://upload.wikimedia.org/wikipedia/commons/thumb/2/2f/Linear_subspaces_with_shading.svg/800px-Linear_subspaces_with_shading.svg.png)"
   ]
  },
  {
   "cell_type": "code",
   "execution_count": 3,
   "metadata": {},
   "outputs": [
    {
     "data": {
      "text/plain": [
       "array([[[0., 0., 0., 0.],\n",
       "        [0., 0., 0., 0.],\n",
       "        [0., 0., 0., 0.]],\n",
       "\n",
       "       [[0., 0., 0., 0.],\n",
       "        [0., 0., 0., 0.],\n",
       "        [0., 0., 0., 0.]]])"
      ]
     },
     "execution_count": 3,
     "metadata": {},
     "output_type": "execute_result"
    }
   ],
   "source": [
    "# 3d vector in numpy\n",
    "a = np.zeros((2,3,4))\n",
    "a"
   ]
  },
  {
   "cell_type": "code",
   "execution_count": 4,
   "metadata": {},
   "outputs": [
    {
     "name": "stdout",
     "output_type": "stream",
     "text": [
      "<class 'list'> [1, 2, 3]\n"
     ]
    }
   ],
   "source": [
    "# vector\n",
    "x = [1,2,3]\n",
    "y = [4,5,6]\n",
    "print(type(x),x)"
   ]
  },
  {
   "cell_type": "code",
   "execution_count": 10,
   "metadata": {},
   "outputs": [
    {
     "name": "stdout",
     "output_type": "stream",
     "text": [
      "<class 'list'> [1, 2, 3, 4, 5, 6]\n"
     ]
    }
   ],
   "source": [
    "# vector append\n",
    "print(type(x+y),x+y)"
   ]
  },
  {
   "cell_type": "code",
   "execution_count": 11,
   "metadata": {},
   "outputs": [
    {
     "name": "stdout",
     "output_type": "stream",
     "text": [
      "<class 'numpy.ndarray'> [5 7 9]\n"
     ]
    }
   ],
   "source": [
    "# vector add\n",
    "print(type(np.add(x,y)),np.add(x,y))"
   ]
  },
  {
   "cell_type": "code",
   "execution_count": 12,
   "metadata": {},
   "outputs": [
    {
     "name": "stdout",
     "output_type": "stream",
     "text": [
      "<class 'numpy.ndarray'> [-3  6 -3]\n"
     ]
    }
   ],
   "source": [
    "# vector Cross Product\n",
    "print(type(np.cross(x,y)),np.cross(x,y))"
   ]
  },
  {
   "cell_type": "markdown",
   "metadata": {},
   "source": [
    "### 벡터화(Vectorization)란 ?\n",
    "![](https://wikimedia.org/api/rest_v1/media/math/render/svg/30ca6a8b796fd3a260ba3001d9875e990baad5ab)\n",
    "* 행렬을 열 벡터로 변환하는 선형 변환. \n",
    "* m X n 행렬 A를 벡터화 하면 m*n X 1 벡터가 됨.\n",
    "* 길이가 n인 벡터는 n차원 공간에서 점처럼 취급 될 수 있음.\n",
    "    * 유클리드 거리(Euclidean Distance) : 점 사이 거리 계산\n",
    "    * 코사인 유사도(Cosine Similarity) : 벡터의 유사성 계산"
   ]
  },
  {
   "cell_type": "markdown",
   "metadata": {},
   "source": [
    "### 표기법\n",
    "![](http://s8.picofile.com/file/8349058626/la.png)"
   ]
  },
  {
   "cell_type": "markdown",
   "metadata": {},
   "source": [
    "### 행렬 연산\n",
    "![](https://cdn.britannica.com/06/77706-004-31EE92F3.jpg)"
   ]
  },
  {
   "cell_type": "code",
   "execution_count": 20,
   "metadata": {},
   "outputs": [],
   "source": [
    "# initializing matrices \n",
    "x = np.array([[1, 2], [4, 5]]) \n",
    "y = np.array([[7, 8], [9, 10]])"
   ]
  },
  {
   "cell_type": "code",
   "execution_count": 14,
   "metadata": {},
   "outputs": [
    {
     "name": "stdout",
     "output_type": "stream",
     "text": [
      "[[ 8 10]\n",
      " [13 15]]\n"
     ]
    }
   ],
   "source": [
    "# Add Metrices\n",
    "print(np.add(x,y)) "
   ]
  },
  {
   "cell_type": "code",
   "execution_count": 17,
   "metadata": {},
   "outputs": [
    {
     "name": "stdout",
     "output_type": "stream",
     "text": [
      "[[-6 -6]\n",
      " [-5 -5]]\n"
     ]
    }
   ],
   "source": [
    "# Sub Metrices\n",
    "print(np.subtract(x,y))"
   ]
  },
  {
   "cell_type": "code",
   "execution_count": 18,
   "metadata": {},
   "outputs": [
    {
     "name": "stdout",
     "output_type": "stream",
     "text": [
      "[[0.1429 0.25  ]\n",
      " [0.4444 0.5   ]]\n"
     ]
    }
   ],
   "source": [
    "# Divide Metrices\n",
    "print(np.divide(x,y))"
   ]
  },
  {
   "cell_type": "code",
   "execution_count": 21,
   "metadata": {},
   "outputs": [
    {
     "name": "stdout",
     "output_type": "stream",
     "text": [
      "[[ 7 16]\n",
      " [36 50]]\n"
     ]
    }
   ],
   "source": [
    "# Multyply Metrices\n",
    "print(np.multiply(x,y))"
   ]
  },
  {
   "cell_type": "markdown",
   "metadata": {},
   "source": [
    "### 벡터간 Dot Product\n",
    "![](http://gamedevelopertips.com/wp-content/uploads/2017/11/image8.png)"
   ]
  },
  {
   "cell_type": "code",
   "execution_count": 35,
   "metadata": {},
   "outputs": [
    {
     "data": {
      "text/plain": [
       "array([-3,  6, -3])"
      ]
     },
     "execution_count": 35,
     "metadata": {},
     "output_type": "execute_result"
    }
   ],
   "source": [
    "# Vector Cross Product (외적)\n",
    "x = [1,2,3]\n",
    "y = [4,5,6]\n",
    "np.cross(x,y)"
   ]
  },
  {
   "cell_type": "code",
   "execution_count": 47,
   "metadata": {},
   "outputs": [
    {
     "data": {
      "text/plain": [
       "70"
      ]
     },
     "execution_count": 47,
     "metadata": {},
     "output_type": "execute_result"
    }
   ],
   "source": [
    "# Vector Dot Product (벡터곱)\n",
    "x = np.array([1, 2, 3, 4])\n",
    "y = np.array([5, 6, 7, 8])\n",
    "np.dot(x,y)"
   ]
  },
  {
   "cell_type": "code",
   "execution_count": 55,
   "metadata": {},
   "outputs": [
    {
     "name": "stdout",
     "output_type": "stream",
     "text": [
      "[[5]\n",
      " [6]\n",
      " [7]\n",
      " [8]]\n",
      "[[5]\n",
      " [6]\n",
      " [7]\n",
      " [8]]\n",
      "[[5]\n",
      " [6]\n",
      " [7]\n",
      " [8]]\n"
     ]
    }
   ],
   "source": [
    "# Matrix Transform\n",
    "x = np.array([[1, 2, 3, 4]])\n",
    "y = np.array([[5, 6, 7, 8]])\n",
    "print(y.T)\n",
    "print(np.reshape(y,(4,1)))\n",
    "print(y.transpose())"
   ]
  },
  {
   "cell_type": "code",
   "execution_count": 59,
   "metadata": {},
   "outputs": [
    {
     "name": "stdout",
     "output_type": "stream",
     "text": [
      "[[70]]\n",
      "70\n"
     ]
    }
   ],
   "source": [
    "# Matrix Dot Product \n",
    "print(np.dot(x,y.T))\n",
    "print(np.dot(x,y.T)[0][0])"
   ]
  },
  {
   "cell_type": "code",
   "execution_count": 57,
   "metadata": {},
   "outputs": [
    {
     "name": "stdout",
     "output_type": "stream",
     "text": [
      "[[ 5  6  7  8]\n",
      " [10 12 14 16]\n",
      " [15 18 21 24]\n",
      " [20 24 28 32]]\n",
      "[[ 5  6  7  8]\n",
      " [10 12 14 16]\n",
      " [15 18 21 24]\n",
      " [20 24 28 32]]\n"
     ]
    }
   ],
   "source": [
    "# Matrix Outer Product\n",
    "print(x.T * y)\n",
    "print(np.outer(x,y))"
   ]
  },
  {
   "cell_type": "code",
   "execution_count": 60,
   "metadata": {},
   "outputs": [
    {
     "name": "stdout",
     "output_type": "stream",
     "text": [
      "[16  6  8]\n"
     ]
    }
   ],
   "source": [
    "# Metrix-Vector Dot Product\n",
    "a = np.array([[5,1,3],[1,1,1],[1,2,1]])\n",
    "b = np.array([1,2,3])\n",
    "print(a.dot(b))"
   ]
  },
  {
   "cell_type": "code",
   "execution_count": 61,
   "metadata": {},
   "outputs": [
    {
     "data": {
      "text/plain": [
       "array([[4, 1],\n",
       "       [2, 2]])"
      ]
     },
     "execution_count": 61,
     "metadata": {},
     "output_type": "execute_result"
    }
   ],
   "source": [
    "# Matrix-Matrix Product\n",
    "a = [[1,0],[0,1]]\n",
    "b = [[4,1],[2,2]]\n",
    "np.matmul(a,b)"
   ]
  },
  {
   "cell_type": "code",
   "execution_count": 62,
   "metadata": {},
   "outputs": [
    {
     "data": {
      "text/plain": [
       "matrix([[5, 1],\n",
       "        [2, 3]])"
      ]
     },
     "execution_count": 62,
     "metadata": {},
     "output_type": "execute_result"
    }
   ],
   "source": [
    "# Matrix-Matrix Add\n",
    "matrix1 = np.matrix(a)\n",
    "matrix2 = np.matrix(b)\n",
    "matrix1 + matrix2"
   ]
  },
  {
   "cell_type": "code",
   "execution_count": 63,
   "metadata": {},
   "outputs": [
    {
     "data": {
      "text/plain": [
       "matrix([[-3, -1],\n",
       "        [-2, -1]])"
      ]
     },
     "execution_count": 63,
     "metadata": {},
     "output_type": "execute_result"
    }
   ],
   "source": [
    "# Matrix-Matrix Sub\n",
    "matrix1 - matrix2"
   ]
  },
  {
   "cell_type": "code",
   "execution_count": 65,
   "metadata": {},
   "outputs": [
    {
     "name": "stdout",
     "output_type": "stream",
     "text": [
      "[[4 1]\n",
      " [2 2]]\n",
      "[[4 1]\n",
      " [2 2]]\n"
     ]
    }
   ],
   "source": [
    "# Matrix-Matrix Dot Product\n",
    "print(np.dot(matrix1, matrix2))\n",
    "print(matrix1 * matrix2)"
   ]
  },
  {
   "cell_type": "code",
   "execution_count": 18,
   "metadata": {},
   "outputs": [
    {
     "name": "stdout",
     "output_type": "stream",
     "text": [
      "[[ 9 10 11]\n",
      " [12 13 14]\n",
      " [15 16 17]]\n"
     ]
    }
   ],
   "source": [
    "A = np.arange(9,18).reshape((3,3)) # [[9 10 11] [12 13 14] [15 16 17]]\n",
    "B = np.arange(9).reshape((3,3)) # [[0 1 2] [3 4 5] [6 7 8]]\n",
    "print(A)"
   ]
  },
  {
   "cell_type": "markdown",
   "metadata": {},
   "source": [
    "### Identity Matrix (단위행렬)\n",
    "numpy.identity(n, dtype=None)"
   ]
  },
  {
   "cell_type": "code",
   "execution_count": 66,
   "metadata": {},
   "outputs": [
    {
     "data": {
      "text/plain": [
       "array([[1., 0., 0.],\n",
       "       [0., 1., 0.],\n",
       "       [0., 0., 1.]])"
      ]
     },
     "execution_count": 66,
     "metadata": {},
     "output_type": "execute_result"
    }
   ],
   "source": [
    "np.identity(3)"
   ]
  },
  {
   "cell_type": "code",
   "execution_count": 68,
   "metadata": {},
   "outputs": [
    {
     "name": "stdout",
     "output_type": "stream",
     "text": [
      "(2, 3)\n",
      "[[1 0 0]\n",
      " [0 1 0]\n",
      " [0 0 1]]\n",
      "[[1 0]\n",
      " [0 1]]\n"
     ]
    }
   ],
   "source": [
    "identy = np.array([[21,5,7],[9,8,16]])\n",
    "print(identy.shape)\n",
    "print(np.identity(identy.shape[1], dtype=\"int\"))\n",
    "print(np.identity(identy.shape[0], dtype=\"int\"))"
   ]
  },
  {
   "cell_type": "code",
   "execution_count": 75,
   "metadata": {},
   "outputs": [
    {
     "name": "stdout",
     "output_type": "stream",
     "text": [
      "[[ 0.3333 -0.1667]\n",
      " [-0.3333  0.6667]]\n",
      "[[4 1]\n",
      " [2 2]]\n"
     ]
    }
   ],
   "source": [
    "# Inverse Matrices (역행렬) : X 행렬과 곱하여 단위행렬이 되는 행렬\n",
    "inverse = np.linalg.inv(matrix2)\n",
    "print(inverse)\n",
    "print(matrix2)"
   ]
  },
  {
   "cell_type": "markdown",
   "metadata": {},
   "source": [
    "## Diagonal Matrix(대각 행렬)"
   ]
  },
  {
   "cell_type": "code",
   "execution_count": 77,
   "metadata": {},
   "outputs": [
    {
     "name": "stdout",
     "output_type": "stream",
     "text": [
      "[ 0  5 10 15]\n",
      "[ 1  6 11]\n",
      "[ 4  9 14]\n"
     ]
    }
   ],
   "source": [
    "A = np.array([[0,   1,  2,  3],\n",
    "              [4,   5,  6,  7],\n",
    "              [8,   9, 10, 11],\n",
    "              [12, 13, 14, 15]])\n",
    "print(np.diag(A))\n",
    "print(np.diag(A,k=1))\n",
    "print(np.diag(A,k=-1))"
   ]
  },
  {
   "cell_type": "markdown",
   "metadata": {},
   "source": [
    "## Transpose of a Matrix (전치행렬)\n",
    "행과 열을 교환"
   ]
  },
  {
   "cell_type": "code",
   "execution_count": 78,
   "metadata": {},
   "outputs": [
    {
     "name": "stdout",
     "output_type": "stream",
     "text": [
      "[[1 2]\n",
      " [3 4]]\n",
      "[[1 3]\n",
      " [2 4]]\n"
     ]
    }
   ],
   "source": [
    "a = np.array([[1, 2], [3, 4]])\n",
    "print(a)\n",
    "print(a.transpose())"
   ]
  },
  {
   "cell_type": "markdown",
   "metadata": {},
   "source": [
    "## Symmetric Matrix ( 대칭행렬 )\n",
    "![](https://wikimedia.org/api/rest_v1/media/math/render/svg/ad8a5a3a4c95de6f7f50b0a6fb592d115fe0e95f)"
   ]
  },
  {
   "cell_type": "code",
   "execution_count": 80,
   "metadata": {},
   "outputs": [
    {
     "name": "stderr",
     "output_type": "stream",
     "text": [
      "C:\\Users\\blue4\\Anaconda3\\envs\\jay\\lib\\site-packages\\ipykernel_launcher.py:2: DeprecationWarning: This function is deprecated. Please call randint(-2000, 2000 + 1) instead\n",
      "  \n"
     ]
    }
   ],
   "source": [
    "N = 100\n",
    "b = np.random.random_integers(-2000,2000,size=(N,N))\n",
    "b_symm = (b + b.T)/2"
   ]
  },
  {
   "cell_type": "code",
   "execution_count": 81,
   "metadata": {},
   "outputs": [
    {
     "data": {
      "text/plain": [
       "array([[  939. ,   -31. ,  -257. , ...,  -610. ,  1153. ,   525.5],\n",
       "       [  -31. ,  1738. ,  -327.5, ...,  -173.5,  -963.5,  -593.5],\n",
       "       [ -257. ,  -327.5,  1470. , ...,  -211. ,    82. ,   714. ],\n",
       "       ...,\n",
       "       [ -610. ,  -173.5,  -211. , ..., -1883. ,    91.5,  -566.5],\n",
       "       [ 1153. ,  -963.5,    82. , ...,    91.5, -1429. ,  -874. ],\n",
       "       [  525.5,  -593.5,   714. , ...,  -566.5,  -874. ,  -505. ]])"
      ]
     },
     "execution_count": 81,
     "metadata": {},
     "output_type": "execute_result"
    }
   ],
   "source": [
    "b_symm"
   ]
  },
  {
   "cell_type": "markdown",
   "metadata": {},
   "source": [
    "## The Trace\n",
    "행렬의 대각 합"
   ]
  },
  {
   "cell_type": "code",
   "execution_count": 83,
   "metadata": {},
   "outputs": [
    {
     "name": "stdout",
     "output_type": "stream",
     "text": [
      "[[1. 0. 0.]\n",
      " [0. 1. 0.]\n",
      " [0. 0. 1.]]\n",
      "3.0\n"
     ]
    }
   ],
   "source": [
    "print(np.eye(3))\n",
    "print(np.trace(np.eye(3)))"
   ]
  },
  {
   "cell_type": "code",
   "execution_count": 84,
   "metadata": {},
   "outputs": [
    {
     "name": "stdout",
     "output_type": "stream",
     "text": [
      "6.0\n",
      "[[4 1]\n",
      " [2 2]]\n"
     ]
    }
   ],
   "source": [
    "det = np.linalg.det(matrix2)\n",
    "print(det)\n",
    "print(matrix2)"
   ]
  },
  {
   "cell_type": "markdown",
   "metadata": {},
   "source": [
    "## [Norm](https://freshrimpsushi.tistory.com/257)\n",
    "Norm은 절대값의 추상화된 개념.\n",
    "* 맨허튼 놈\n",
    "* 유클리드 놈\n",
    "* 맥시멈 놈\n",
    "* p-놈"
   ]
  },
  {
   "cell_type": "code",
   "execution_count": 9,
   "metadata": {},
   "outputs": [
    {
     "data": {
      "text/plain": [
       "array([1., 2., 3., 4.])"
      ]
     },
     "execution_count": 9,
     "metadata": {},
     "output_type": "execute_result"
    }
   ],
   "source": [
    "v = np.array([1,2,3,4])\n",
    "norm.median(v)"
   ]
  },
  {
   "cell_type": "markdown",
   "metadata": {},
   "source": [
    "## Linear Independence And Rank"
   ]
  },
  {
   "cell_type": "code",
   "execution_count": 16,
   "metadata": {},
   "outputs": [
    {
     "name": "stdout",
     "output_type": "stream",
     "text": [
      "[ 1.618 -0.618  0.     1.   ]\n",
      "[[ 0.      0.      0.5774  0.5774]\n",
      " [ 0.5257  0.8507  0.5774  0.    ]\n",
      " [ 0.8507 -0.5257 -0.5774 -0.5774]\n",
      " [ 0.      0.      0.      0.5774]]\n",
      "[[0 1 1 0]]\n"
     ]
    }
   ],
   "source": [
    "# linearly independent rows\n",
    "matrix = np.array(\n",
    "[\n",
    "    [0,1,0,0],\n",
    "    [0,0,1,0],\n",
    "    [0,1,1,0],\n",
    "    [1,0,0,1]\n",
    "])\n",
    "lambdas, V = np.linalg.eig(matrix.T)\n",
    "print(lambdas)\n",
    "print(V)\n",
    "print(matrix[lambdas==0,:])"
   ]
  },
  {
   "cell_type": "code",
   "execution_count": 25,
   "metadata": {},
   "outputs": [
    {
     "data": {
      "text/plain": [
       "array([[1., 0.],\n",
       "       [0., 1.]])"
      ]
     },
     "execution_count": 25,
     "metadata": {},
     "output_type": "execute_result"
    }
   ],
   "source": [
    "# Inverse\n",
    "x=np.array([[1,2],[3,4]])\n",
    "np.dot(x,np.linalg.inv(x))"
   ]
  },
  {
   "cell_type": "markdown",
   "metadata": {},
   "source": [
    "## Orthogonal Matrices"
   ]
  },
  {
   "cell_type": "code",
   "execution_count": 26,
   "metadata": {},
   "outputs": [],
   "source": [
    "def rvs(dim=3):\n",
    "    random_state = np.random\n",
    "    H = np.eye(dim)\n",
    "    D = np.ones((dim,))\n",
    "    for n in range(1, dim):\n",
    "        x = random_state.normal(size=(dim-n+1,))\n",
    "        D[n-1] = np.sign(x[0])\n",
    "        x[0] -= D[n-1]*np.sqrt((x*x).sum())\n",
    "        # Householder transformation\n",
    "        Hx = (np.eye(dim-n+1) - 2.*np.outer(x,x)/(x*x).sum())\n",
    "        mat = np.eye(dim)\n",
    "        mat[n-1:, n-1:] = Hx\n",
    "        H = np.dot(H, mat)\n",
    "    D[-1] = (-1)**(1-(dim % 2))*D.prod()\n",
    "    # Equivalent to np.dot(np.diag(D),H) but faster, apparently\n",
    "    H = (D*H.T).T\n",
    "    return H"
   ]
  },
  {
   "cell_type": "code",
   "execution_count": 29,
   "metadata": {},
   "outputs": [
    {
     "data": {
      "text/plain": [
       "array([[-0.4216,  0.2633, -0.4747,  0.5134,  0.5139],\n",
       "       [ 0.5334,  0.4215,  0.2938,  0.6529, -0.1592],\n",
       "       [ 0.6468, -0.1776, -0.1126, -0.1905,  0.7079],\n",
       "       [ 0.0241, -0.8471, -0.0382,  0.5198, -0.1007],\n",
       "       [-0.3447, -0.0624,  0.8211,  0.0612,  0.4464]])"
      ]
     },
     "execution_count": 29,
     "metadata": {},
     "output_type": "execute_result"
    }
   ],
   "source": [
    "rvs(5)"
   ]
  },
  {
   "cell_type": "markdown",
   "metadata": {},
   "source": [
    "## Range and Nullspace of a Matrix"
   ]
  },
  {
   "cell_type": "code",
   "execution_count": 33,
   "metadata": {},
   "outputs": [
    {
     "data": {
      "text/plain": [
       "array([[ 0.7071],\n",
       "       [-0.7071]])"
      ]
     },
     "execution_count": 33,
     "metadata": {},
     "output_type": "execute_result"
    }
   ],
   "source": [
    "from scipy.linalg import null_space\n",
    "A = np.array([[1,1],[1,1]])\n",
    "ns = null_space(A)\n",
    "ns * np.sign(ns[0,0]) # Remove the sign ambiguity of the vector"
   ]
  },
  {
   "cell_type": "markdown",
   "metadata": {},
   "source": [
    "## Determinant"
   ]
  },
  {
   "cell_type": "code",
   "execution_count": 35,
   "metadata": {},
   "outputs": [
    {
     "data": {
      "text/plain": [
       "-2.0000000000000004"
      ]
     },
     "execution_count": 35,
     "metadata": {},
     "output_type": "execute_result"
    }
   ],
   "source": [
    "a = np.array([[1, 2], [3, 4]])\n",
    "np.linalg.det(a)"
   ]
  },
  {
   "cell_type": "markdown",
   "metadata": {},
   "source": [
    "## Tensors\n",
    "다차원 배열으로 벡터는 텐서의 하위 클래스라고 가정할 수 있음. 스칼라는 0, 벡터는 1, 행렬은 2, 텐서는 3이상의 Rank임."
   ]
  },
  {
   "cell_type": "code",
   "execution_count": 37,
   "metadata": {},
   "outputs": [
    {
     "name": "stdout",
     "output_type": "stream",
     "text": [
      "[[0. 0. 0. 0. 0.]\n",
      " [0. 0. 0. 0. 0.]\n",
      " [0. 0. 1. 1. 1.]\n",
      " [0. 0. 1. 1. 1.]\n",
      " [0. 0. 0. 0. 0.]]\n"
     ]
    }
   ],
   "source": [
    "A = tf.Variable(np.zeros((5,5), dtype=np.float32), trainable=False)\n",
    "new_part = tf.ones((2,3))\n",
    "update_A = A[2:4,2:5].assign(new_part)\n",
    "sess = tf.InteractiveSession()\n",
    "tf.global_variables_initializer().run()\n",
    "print(update_A.eval())"
   ]
  },
  {
   "cell_type": "markdown",
   "metadata": {},
   "source": [
    "## Hyperplane\n",
    "초평면은 N-1 차원을 말함. 2차원 공간에서 초평면은 선이고, 3차원 공간에서는 2차원 평면임."
   ]
  },
  {
   "cell_type": "code",
   "execution_count": 55,
   "metadata": {},
   "outputs": [
    {
     "data": {
      "image/png": "[encoded data removed]",
      "text/plain": [
       "<Figure size 432x288 with 1 Axes>"
      ]
     },
     "metadata": {},
     "output_type": "display_data"
    }
   ],
   "source": [
    "np.random.seed(0)\n",
    "X = np.r_[np.random.randn(20, 2) - [2, 2], np.random.randn(20, 2) + [2, 2]]\n",
    "Y = [0] * 20 + [1] * 20\n",
    "\n",
    "fig, ax = plt.subplots()\n",
    "clf2 = svm.LinearSVC(C=1).fit(X, Y)\n",
    "\n",
    "# get the separating hyperplane\n",
    "w = clf2.coef_[0]\n",
    "a = -w[0] / w[1]\n",
    "xx = np.linspace(-5,5)\n",
    "yy = a * xx - (clf2.intercept_[0] / w[1])\n",
    "\n",
    "# create a mesh to plot in\n",
    "x_min, x_max = X[:,0].min()-1, X[:,0].max()+1\n",
    "y_min, y_max = X[:,1].min()-1, X[:,1].max()+1\n",
    "xx2, yy2 = np.meshgrid(np.arange(x_min, x_max, .2), np.arange(y_min, y_max, .2))\n",
    "Z = clf2.predict(np.c_[xx2.ravel(), yy2.ravel()])\n",
    "Z = Z.reshape(xx2.shape)\n",
    "ax.contourf(xx2, yy2, Z, cmap=plt.cm.coolwarm, alpha=.3)\n",
    "ax.scatter(X[:,0], X[:,1], c=Y, cmap=plt.cm.coolwarm, s=25)\n",
    "ax.plot(xx,yy)\n",
    "\n",
    "ax.axis([x_min, x_max, y_min, y_max])\n",
    "plt.show()"
   ]
  },
  {
   "cell_type": "markdown",
   "metadata": {},
   "source": [
    "## Exercies\n",
    "[more](https://www.datacamp.com/community/blog/python-scipy-cheat-sheet)"
   ]
  },
  {
   "cell_type": "code",
   "execution_count": 58,
   "metadata": {},
   "outputs": [
    {
     "data": {
      "text/plain": [
       "array([[[0, 0, 0, 0, 0],\n",
       "        [1, 1, 1, 1, 1],\n",
       "        [2, 2, 2, 2, 2],\n",
       "        [3, 3, 3, 3, 3],\n",
       "        [4, 4, 4, 4, 4]],\n",
       "\n",
       "       [[0, 1, 2, 3, 4],\n",
       "        [0, 1, 2, 3, 4],\n",
       "        [0, 1, 2, 3, 4],\n",
       "        [0, 1, 2, 3, 4],\n",
       "        [0, 1, 2, 3, 4]]])"
      ]
     },
     "execution_count": 58,
     "metadata": {},
     "output_type": "execute_result"
    }
   ],
   "source": [
    "# dense meshgrid\n",
    "np.mgrid[0:5,0:5]"
   ]
  },
  {
   "cell_type": "code",
   "execution_count": 59,
   "metadata": {},
   "outputs": [
    {
     "data": {
      "text/plain": [
       "array([[1.+5.j, 0.+4.j],\n",
       "       [0.+2.j, 0.+5.j],\n",
       "       [0.+3.j, 0.+6.j]])"
      ]
     },
     "execution_count": 59,
     "metadata": {},
     "output_type": "execute_result"
    }
   ],
   "source": [
    "# Permute array dimensions\n",
    "a=np.array([1,2,3])\n",
    "b=np.array([(1+5j,2j,3j), (4j,5j,6j)])\n",
    "c=np.array([[(1.5,2,3), (4,5,6)], [(3,2,1), (4,5,6)]])\n",
    "\n",
    "np.transpose(b)"
   ]
  },
  {
   "cell_type": "code",
   "execution_count": 60,
   "metadata": {},
   "outputs": [
    {
     "data": {
      "text/plain": [
       "array([1.+5.j, 0.+2.j, 0.+3.j, 0.+4.j, 0.+5.j, 0.+6.j])"
      ]
     },
     "execution_count": 60,
     "metadata": {},
     "output_type": "execute_result"
    }
   ],
   "source": [
    "b.flatten()"
   ]
  },
  {
   "cell_type": "code",
   "execution_count": 63,
   "metadata": {},
   "outputs": [
    {
     "data": {
      "text/plain": [
       "poly1d([3, 4, 5])"
      ]
     },
     "execution_count": 63,
     "metadata": {},
     "output_type": "execute_result"
    }
   ],
   "source": [
    "# Polynomials\n",
    "poly1d([3,4,5])"
   ]
  },
  {
   "cell_type": "code",
   "execution_count": null,
   "metadata": {},
   "outputs": [],
   "source": []
  }
 ],
 "metadata": {
  "kernelspec": {
   "display_name": "Python 3",
   "language": "python",
   "name": "python3"
  },
  "language_info": {
   "codemirror_mode": {
    "name": "ipython",
    "version": 3
   },
   "file_extension": ".py",
   "mimetype": "text/x-python",
   "name": "python",
   "nbconvert_exporter": "python",
   "pygments_lexer": "ipython3",
   "version": "3.6.8"
  }
 },
 "nbformat": 4,
 "nbformat_minor": 2
}
