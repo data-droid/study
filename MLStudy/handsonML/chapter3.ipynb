{
 "cells": [
  {
   "cell_type": "markdown",
   "metadata": {},
   "source": [
    "## Chapter 3. 분류 - Classification \n",
    "---\n",
    "### 3.1 MNIST\n",
    "### 3.2 이진 분류기 학습 \n",
    "### 3.3 성능 측정\n",
    "> #### 3.3.1 교차 검증을 사용한 정확도 측정\n",
    "> #### 3.3.2 오차 행렬\n",
    "> #### 3.3.3 정밀도와 재현율\n",
    "> #### 3.3.4 정밀도/재현율 트레이드오프\n",
    "> #### 3.3.5 ROC 곡선\n",
    "\n",
    "### 3.4 다중 분류\n",
    "### 3.5 에러 분석\n",
    "### 3.6 다중 레이블 분류 "
   ]
  },
  {
   "cell_type": "markdown",
   "metadata": {},
   "source": [
    "## 3.1 MNIST\n",
    "---\n",
    "### 고등학생과 미국 인구조사국 직원들이 손으로 쓴 70,000개의 작은 숫자 이미지 셋\n",
    "<img src=\"https://drive.google.com/uc?id=1iiFEty392Z2xCGxrEbBJgIa5f6k9xfR_\" width=\"400\">\n"
   ]
  },
  {
   "cell_type": "code",
   "execution_count": 1,
   "metadata": {},
   "outputs": [
    {
     "data": {
      "text/plain": [
       "'C:\\\\Users\\\\jaesang\\\\scikit_learn_data'"
      ]
     },
     "execution_count": 1,
     "metadata": {},
     "output_type": "execute_result"
    }
   ],
   "source": [
    "from sklearn import datasets\n",
    "datasets.get_data_home()"
   ]
  },
  {
   "cell_type": "code",
   "execution_count": 2,
   "metadata": {},
   "outputs": [
    {
     "data": {
      "text/plain": [
       "{'DESCR': 'mldata.org dataset: mnist-original',\n",
       " 'COL_NAMES': ['label', 'data'],\n",
       " 'target': array([0., 0., 0., ..., 9., 9., 9.]),\n",
       " 'data': array([[0, 0, 0, ..., 0, 0, 0],\n",
       "        [0, 0, 0, ..., 0, 0, 0],\n",
       "        [0, 0, 0, ..., 0, 0, 0],\n",
       "        ...,\n",
       "        [0, 0, 0, ..., 0, 0, 0],\n",
       "        [0, 0, 0, ..., 0, 0, 0],\n",
       "        [0, 0, 0, ..., 0, 0, 0]], dtype=uint8)}"
      ]
     },
     "execution_count": 2,
     "metadata": {},
     "output_type": "execute_result"
    }
   ],
   "source": [
    "##from sklearn import datasets\n",
    "##datasets.get_data_home()\n",
    "\n",
    "from sklearn.datasets import fetch_mldata\n",
    "mnist = fetch_mldata('MNIST original')\n",
    "mnist\n",
    "\n",
    "## Error http://mldata.org/ said that 'service is temporarily down!'"
   ]
  },
  {
   "cell_type": "markdown",
   "metadata": {},
   "source": [
    "- DESCR : 데이터 셋 설명\n",
    "- data : 샘플이 하나의 행, 특성이 하나의 열로 구성된 배열\n",
    "- target : 레이블 배열"
   ]
  },
  {
   "cell_type": "code",
   "execution_count": 3,
   "metadata": {},
   "outputs": [
    {
     "data": {
      "text/plain": [
       "(70000, 784)"
      ]
     },
     "execution_count": 3,
     "metadata": {},
     "output_type": "execute_result"
    }
   ],
   "source": [
    "X,y = mnist['data'], mnist['target']\n",
    "X.shape"
   ]
  },
  {
   "cell_type": "code",
   "execution_count": 4,
   "metadata": {},
   "outputs": [
    {
     "data": {
      "text/plain": [
       "(70000,)"
      ]
     },
     "execution_count": 4,
     "metadata": {},
     "output_type": "execute_result"
    }
   ],
   "source": [
    "y.shape"
   ]
  },
  {
   "cell_type": "code",
   "execution_count": 5,
   "metadata": {},
   "outputs": [
    {
     "data": {
      "text/plain": [
       "<function matplotlib.pyplot.show(*args, **kw)>"
      ]
     },
     "execution_count": 5,
     "metadata": {},
     "output_type": "execute_result"
    },
    {
     "data": {
      "image/png": "[encoded data removed]",
      "text/plain": [
       "<Figure size 432x288 with 1 Axes>"
      ]
     },
     "metadata": {},
     "output_type": "display_data"
    }
   ],
   "source": [
    "%matplotlib inline\n",
    "import matplotlib\n",
    "import matplotlib.pyplot as plt\n",
    "\n",
    "some_digit = X[36000]\n",
    "some_digit_image = some_digit.reshape(28,28)\n",
    "plt.imshow(some_digit_image, cmap=matplotlib.cm.binary, interpolation=\"nearest\")\n",
    "plt.axis(\"off\")\n",
    "plt.show"
   ]
  },
  {
   "cell_type": "code",
   "execution_count": 6,
   "metadata": {},
   "outputs": [
    {
     "data": {
      "text/plain": [
       "5.0"
      ]
     },
     "execution_count": 6,
     "metadata": {},
     "output_type": "execute_result"
    }
   ],
   "source": [
    "y[36000]"
   ]
  },
  {
   "cell_type": "markdown",
   "metadata": {},
   "source": [
    "- 데이터 자세히 보기 전에 항상 Test set 를 만들고, 따로 떼어놓아야한다\n",
    "- MNIST는 이미 Train set ( 앞쪽 60,000개) 과 Test Set(뒤쪽 10,000개)으로 나누어 두었음"
   ]
  },
  {
   "cell_type": "code",
   "execution_count": 7,
   "metadata": {},
   "outputs": [],
   "source": [
    "X_train, X_test, y_train, y_test = X[:60000], X[60000:],y[:60000], y[60000:]"
   ]
  },
  {
   "cell_type": "code",
   "execution_count": 8,
   "metadata": {},
   "outputs": [],
   "source": [
    "import numpy as np\n",
    "shuffle_index = np.random.permutation(60000)\n",
    "X_train, y_train = X_train[shuffle_index], y_train[shuffle_index]"
   ]
  },
  {
   "cell_type": "code",
   "execution_count": 9,
   "metadata": {},
   "outputs": [
    {
     "data": {
      "text/plain": [
       "60000"
      ]
     },
     "execution_count": 9,
     "metadata": {},
     "output_type": "execute_result"
    }
   ],
   "source": [
    "shuffle_index.size"
   ]
  },
  {
   "cell_type": "code",
   "execution_count": 10,
   "metadata": {},
   "outputs": [
    {
     "data": {
      "text/plain": [
       "array([39325,  2650, 21031, ..., 49155, 27031, 45138])"
      ]
     },
     "execution_count": 10,
     "metadata": {},
     "output_type": "execute_result"
    }
   ],
   "source": [
    "(shuffle_index)"
   ]
  },
  {
   "cell_type": "markdown",
   "metadata": {},
   "source": [
    "## 3.2 이진 분류기 훈련\n",
    "---\n",
    "### 숫자 5만 분류하는 이진 분류기 ( Binary-Classification) 를 만들어보자 \n",
    "### SGD ( stochastic Gradient Desent ) \n",
    "> * 매우 큰 데이터셋을 효율적으로 처리하는 장점이 있음\n",
    "> * 한 번에 하나씩 훈련 샘플을 독립적으로 처리\n",
    "\n"
   ]
  },
  {
   "cell_type": "code",
   "execution_count": 11,
   "metadata": {},
   "outputs": [
    {
     "data": {
      "text/plain": [
       "dtype('<f8')"
      ]
     },
     "execution_count": 11,
     "metadata": {},
     "output_type": "execute_result"
    }
   ],
   "source": [
    "y_train.dtype"
   ]
  },
  {
   "cell_type": "code",
   "execution_count": 12,
   "metadata": {},
   "outputs": [
    {
     "data": {
      "text/plain": [
       "array([6., 0., 3., ..., 8., 4., 7.])"
      ]
     },
     "execution_count": 12,
     "metadata": {},
     "output_type": "execute_result"
    }
   ],
   "source": [
    "y_train"
   ]
  },
  {
   "cell_type": "code",
   "execution_count": 13,
   "metadata": {},
   "outputs": [],
   "source": [
    "y_train_5 = (y_train == 5) # 5는 True, 나머지 False\n",
    "y_test_5 = (y_test == 5)"
   ]
  },
  {
   "cell_type": "code",
   "execution_count": 14,
   "metadata": {},
   "outputs": [
    {
     "data": {
      "text/plain": [
       "dtype('bool')"
      ]
     },
     "execution_count": 14,
     "metadata": {},
     "output_type": "execute_result"
    }
   ],
   "source": [
    "y_train_5.dtype"
   ]
  },
  {
   "cell_type": "code",
   "execution_count": 15,
   "metadata": {},
   "outputs": [
    {
     "data": {
      "text/plain": [
       "array([False, False, False, ..., False, False, False])"
      ]
     },
     "execution_count": 15,
     "metadata": {},
     "output_type": "execute_result"
    }
   ],
   "source": [
    "y_train_5"
   ]
  },
  {
   "cell_type": "code",
   "execution_count": 16,
   "metadata": {},
   "outputs": [
    {
     "data": {
      "text/plain": [
       "array([[0, 0, 0, ..., 0, 0, 0],\n",
       "       [0, 0, 0, ..., 0, 0, 0],\n",
       "       [0, 0, 0, ..., 0, 0, 0],\n",
       "       ...,\n",
       "       [0, 0, 0, ..., 0, 0, 0],\n",
       "       [0, 0, 0, ..., 0, 0, 0],\n",
       "       [0, 0, 0, ..., 0, 0, 0]], dtype=uint8)"
      ]
     },
     "execution_count": 16,
     "metadata": {},
     "output_type": "execute_result"
    }
   ],
   "source": [
    "X_train"
   ]
  },
  {
   "cell_type": "code",
   "execution_count": 17,
   "metadata": {},
   "outputs": [
    {
     "data": {
      "text/plain": [
       "SGDClassifier(alpha=0.0001, average=False, class_weight=None, epsilon=0.1,\n",
       "       eta0=0.0, fit_intercept=True, l1_ratio=0.15,\n",
       "       learning_rate='optimal', loss='hinge', max_iter=5, n_iter=None,\n",
       "       n_jobs=1, penalty='l2', power_t=0.5, random_state=42, shuffle=True,\n",
       "       tol=None, verbose=0, warm_start=False)"
      ]
     },
     "execution_count": 17,
     "metadata": {},
     "output_type": "execute_result"
    }
   ],
   "source": [
    "from sklearn.linear_model import SGDClassifier\n",
    "\n",
    "sgd_clf = SGDClassifier(max_iter=5,random_state=42)\n",
    "sgd_clf.fit(X_train,y_train_5)"
   ]
  },
  {
   "cell_type": "code",
   "execution_count": 18,
   "metadata": {},
   "outputs": [
    {
     "data": {
      "text/plain": [
       "array([ True])"
      ]
     },
     "execution_count": 18,
     "metadata": {},
     "output_type": "execute_result"
    }
   ],
   "source": [
    "sgd_clf.predict([some_digit])"
   ]
  },
  {
   "cell_type": "markdown",
   "metadata": {},
   "source": [
    "## 3.3 성능 측정\n",
    "---\n",
    "### 3.1 교차 검증을 사용한 정확도 측정"
   ]
  },
  {
   "cell_type": "code",
   "execution_count": 19,
   "metadata": {},
   "outputs": [
    {
     "data": {
      "text/plain": [
       "array([0.96416965, 0.96608333, 0.9655    , 0.96775   , 0.96791399])"
      ]
     },
     "execution_count": 19,
     "metadata": {},
     "output_type": "execute_result"
    }
   ],
   "source": [
    "from sklearn.model_selection import cross_val_score\n",
    "cross_val_score(sgd_clf,X_train,y_train_5,cv=5,scoring=\"accuracy\")"
   ]
  },
  {
   "cell_type": "code",
   "execution_count": 20,
   "metadata": {},
   "outputs": [],
   "source": [
    "## 흥분 하지말고 모든 이미지가 5라는 분류기를 만들자 \n",
    "\n",
    "from sklearn.base import BaseEstimator\n",
    "\n",
    "class Never5Classifier(BaseEstimator):\n",
    "    def fit(self, X, y=None ):\n",
    "        pass\n",
    "    def predict(self,X):\n",
    "        return np.zeros((len(X),1),dtype=bool)"
   ]
  },
  {
   "cell_type": "code",
   "execution_count": 21,
   "metadata": {},
   "outputs": [
    {
     "data": {
      "text/plain": [
       "array([0.91341667, 0.91016667, 0.9045    , 0.9095    , 0.91066667])"
      ]
     },
     "execution_count": 21,
     "metadata": {},
     "output_type": "execute_result"
    }
   ],
   "source": [
    "never_5_clf = Never5Classifier()\n",
    "cross_val_score(never_5_clf,X_train,y_train_5,cv=5,scoring=\"accuracy\")"
   ]
  },
  {
   "cell_type": "markdown",
   "metadata": {},
   "source": [
    "- 정확도( Accuracy )는 성능 측정 지표로 선호하지 않음\n",
    "- 특히, 불균형 데이터셋 ( 즉, 어떤 클래스가 다른 것 보다 월등히 많을 때 ) \n",
    "<img src=\"https://drive.google.com/uc?id=1_tk0c4iZqs-BBXZdiU5ig6-NF8SqN9w7\" width=\"250\">\n"
   ]
  },
  {
   "cell_type": "markdown",
   "metadata": {},
   "source": [
    "### 3.2 오차 행렬 ( Confusion Matrix ) & 3.1 정밀도와 재현율\n",
    "\n",
    "- 분류기 성능을 평가하는 더 좋은 방법\n",
    "- 분류기가 숫자 5의 이미지를 3으로 잘못 분류한 횟수를 알고 싶다면 오차 행렬의 5행 3열을 보면 알 수 있음"
   ]
  },
  {
   "cell_type": "code",
   "execution_count": 22,
   "metadata": {},
   "outputs": [],
   "source": [
    "from sklearn.model_selection import cross_val_predict\n",
    "\n",
    "y_train_pred = cross_val_predict(sgd_clf,X_train,y_train_5,cv=5)"
   ]
  },
  {
   "cell_type": "markdown",
   "metadata": {},
   "source": [
    "- cross_val_predict 은 K-fold Cross Validation 수행하고 평가 점수가 아닌 테스트 fold에서 얻은 예측을 반환 \n",
    "- 즉,훈련 세트의 모든 샘플에 대해 깨끗한 예측을 얻음 (모델이 룬련한느 동안보지 못했던 데이터에 대해 예측 ) "
   ]
  },
  {
   "cell_type": "code",
   "execution_count": 23,
   "metadata": {},
   "outputs": [
    {
     "data": {
      "text/plain": [
       "(60000,)"
      ]
     },
     "execution_count": 23,
     "metadata": {},
     "output_type": "execute_result"
    }
   ],
   "source": [
    "y_train_pred.shape"
   ]
  },
  {
   "cell_type": "code",
   "execution_count": 24,
   "metadata": {},
   "outputs": [
    {
     "data": {
      "text/plain": [
       "array([False, False, False, ..., False, False, False])"
      ]
     },
     "execution_count": 24,
     "metadata": {},
     "output_type": "execute_result"
    }
   ],
   "source": [
    "y_train_pred"
   ]
  },
  {
   "cell_type": "code",
   "execution_count": 25,
   "metadata": {},
   "outputs": [
    {
     "data": {
      "text/plain": [
       "array([[53886,   693],\n",
       "       [ 1330,  4091]], dtype=int64)"
      ]
     },
     "execution_count": 25,
     "metadata": {},
     "output_type": "execute_result"
    }
   ],
   "source": [
    "from sklearn.metrics import confusion_matrix\n",
    "confusion_matrix(y_train_5,y_train_pred)\n",
    "## target class / predict class "
   ]
  },
  {
   "cell_type": "markdown",
   "metadata": {},
   "source": [
    "<img src=\"https://drive.google.com/uc?id=1Ee0C5F3b7wKfNeAKAVLVg5MzMLdd8LT6\" width=\"500\">\n"
   ]
  },
  {
   "cell_type": "markdown",
   "metadata": {},
   "source": [
    "- Positive : 5 이다\n",
    "- Negative : 5가 아니다 \n",
    "\n",
    "오차행렬 요소\n",
    "> * TN : 5가 아닌 것을 5가 아니라고 분류 ( 정답 ! ) - 53654\n",
    "> * TP : 5인 것을 5라고 분류 ( 정답 ! ) - 4116\n",
    "> * FN : 5인데 5가 아니라고 분류 - 1305\n",
    "> * FP : 5가 아닌데 5라고 분류 - 925 "
   ]
  },
  {
   "cell_type": "markdown",
   "metadata": {},
   "source": [
    "#### 정밀도 ( Precision ) \n",
    "--- \n",
    "> \n",
    "> $$ Precision = {TP \\over TP+FP}$$\n",
    "> 예측한 것 중에 제대로 예측한 비율 \n",
    "> 4116 / ( 925 + 4116 ) = 0.81\n",
    "> 5로 판별한 이미지중 81%가 정확 \n",
    "\n",
    "#### 재현율 ( Recall )\n",
    "---\n",
    "> 분류기가 정확하게 감지한 Positve의 샘플의 비율\n",
    "> 민감도 ( Sensitivity ) or 진짜 양성 비율 ( TPR )라고도 함 \n",
    "> $$ Recall = {TP \\over TP+FN}$$\n",
    "> 4116 / ( 1305 + 4116 ) = 0.75\n",
    "> 전체 숫자 5 중에 75%만 감지\n",
    "\n",
    "#### F1 점수\n",
    "\n",
    "> Precision과 Recall을 하나의 숫자로 만든 숫자 : 정밀도와 재현율의 조화평균 : F1\n",
    "> Precision과 Recall이 비슷하다면 F1 이 높음\n",
    "> 상황에 따라 Precision이 중요한 상황 / Recall이 중요한 상황이 있음 \n",
    "\n",
    "- 높은 정밀도가 필요 \n",
    "   > 어린아이에게 안전한 동영상을 걸려주는 분류기 ( 좋은 동영상이 제외되더라도 , 안전한 것들만 노출 )\n",
    "- 높은 재현율이 필요 \n",
    "    > 감시카메라를 통해 좀도둑잡아내는 분류기\n",
    "    > 민감한 센서를 만들어두면, 경비원의 잘못된 호출이 빈번하더라도, 거의 모든 좀도둑은 잡을 것 \n",
    "       \n",
    "\n",
    "\n"
   ]
  },
  {
   "cell_type": "code",
   "execution_count": 26,
   "metadata": {},
   "outputs": [
    {
     "data": {
      "text/plain": [
       "0.8551421404682275"
      ]
     },
     "execution_count": 26,
     "metadata": {},
     "output_type": "execute_result"
    }
   ],
   "source": [
    "from sklearn.metrics import precision_score, recall_score,f1_score\n",
    "precision_score(y_train_5,y_train_pred)"
   ]
  },
  {
   "cell_type": "code",
   "execution_count": 27,
   "metadata": {},
   "outputs": [
    {
     "data": {
      "text/plain": [
       "0.7546578122117691"
      ]
     },
     "execution_count": 27,
     "metadata": {},
     "output_type": "execute_result"
    }
   ],
   "source": [
    "recall_score(y_train_5,y_train_pred)"
   ]
  },
  {
   "cell_type": "code",
   "execution_count": 28,
   "metadata": {},
   "outputs": [
    {
     "data": {
      "text/plain": [
       "0.8017638412542871"
      ]
     },
     "execution_count": 28,
     "metadata": {},
     "output_type": "execute_result"
    }
   ],
   "source": [
    "f1_score(y_train_5,y_train_pred)"
   ]
  },
  {
   "cell_type": "markdown",
   "metadata": {},
   "source": [
    "### 3.4 정밀도와 재현율의 TradeOff\n",
    "\n",
    "- SGD가 분류를 어떻게 결정했는 지 살펴보자\n",
    "- 결정 함수 ( decision function ) 을 사용하여 각 샘플의 점수를 구함 \n",
    "- 이 점수가 Threshold 보다 크면 양성 , 그렇지 않으면 음성\n",
    "<img src=\"https://drive.google.com/uc?id=11uYxijqQ9FkPOG3sZBRjl2dyOliADcJ8\" width=\"600\">"
   ]
  },
  {
   "cell_type": "code",
   "execution_count": 29,
   "metadata": {},
   "outputs": [
    {
     "data": {
      "text/plain": [
       "array([187944.6500419])"
      ]
     },
     "execution_count": 29,
     "metadata": {},
     "output_type": "execute_result"
    }
   ],
   "source": [
    "y_scores =sgd_clf.decision_function([some_digit])\n",
    "y_scores"
   ]
  },
  {
   "cell_type": "code",
   "execution_count": 30,
   "metadata": {},
   "outputs": [
    {
     "data": {
      "text/plain": [
       "array([ True])"
      ]
     },
     "execution_count": 30,
     "metadata": {},
     "output_type": "execute_result"
    }
   ],
   "source": [
    "threshold= 90000\n",
    "y_some_digit_pred = (y_scores > threshold)\n",
    "y_some_digit_pred"
   ]
  },
  {
   "cell_type": "code",
   "execution_count": 31,
   "metadata": {},
   "outputs": [
    {
     "data": {
      "text/plain": [
       "array([ True])"
      ]
     },
     "execution_count": 31,
     "metadata": {},
     "output_type": "execute_result"
    }
   ],
   "source": [
    "threshold= 100000\n",
    "y_some_digit_pred = (y_scores > threshold)\n",
    "y_some_digit_pred"
   ]
  },
  {
   "cell_type": "code",
   "execution_count": 32,
   "metadata": {},
   "outputs": [],
   "source": [
    "y_scores = cross_val_predict(sgd_clf,X_train,y_train_5,cv=5,method=\"decision_function\")"
   ]
  },
  {
   "cell_type": "code",
   "execution_count": 33,
   "metadata": {},
   "outputs": [],
   "source": [
    "from sklearn.metrics import precision_recall_curve\n",
    "precisions, recalls , thresholds = precision_recall_curve(y_train_5,y_scores)\n"
   ]
  },
  {
   "cell_type": "code",
   "execution_count": 34,
   "metadata": {},
   "outputs": [
    {
     "data": {
      "image/png": "[encoded data removed]",
      "text/plain": [
       "<Figure size 432x288 with 1 Axes>"
      ]
     },
     "metadata": {},
     "output_type": "display_data"
    }
   ],
   "source": [
    "\n",
    "def plot_precision_recall_vs_threshold ( precisions, recalls, thresholds) :\n",
    "    plt.plot(thresholds, precisions[:-1], \"b--\",label=\"Precision\")\n",
    "    plt.plot(thresholds, recalls[:-1], \"g-\",label=\"Recall\")\n",
    "    plt.xlabel(\"Threshold\")\n",
    "    plt.legend(loc=\"center left\")\n",
    "    plt.ylim([0,1])\n",
    "    plt.xlim([-700000, 700000])\n",
    "\n",
    "plot_precision_recall_vs_threshold(precisions, recalls , thresholds)\n",
    "plt.show()"
   ]
  },
  {
   "cell_type": "markdown",
   "metadata": {},
   "source": []
  },
  {
   "cell_type": "code",
   "execution_count": 35,
   "metadata": {},
   "outputs": [
    {
     "data": {
      "image/png": "[encoded data removed]",
      "text/plain": [
       "<Figure size 576x432 with 1 Axes>"
      ]
     },
     "metadata": {},
     "output_type": "display_data"
    }
   ],
   "source": [
    "def  plot_precision_vs_recallplot_pre (precisions, recalls):\n",
    "    plt.plot(recalls, precisions, \"b-\", linewidth=2)\n",
    "    plt.xlabel(\"Recall\", fontsize=16)\n",
    "    plt.ylabel(\"Precision\", fontsize=16)\n",
    "    plt.axis([0, 1, 0, 1])\n",
    "\n",
    "plt.figure(figsize=(8, 6))\n",
    "plot_precision_vs_recallplot_pre(precisions, recalls)\n",
    "plt.show()"
   ]
  },
  {
   "cell_type": "markdown",
   "metadata": {},
   "source": [
    "### 3.5 ROC 곡선\n",
    "\n",
    "- 수신기 조작 특성 ( Receiver operating characteristic ) \n",
    "- 거짓 양성 비율 ( FPR =  1 - TNR (  특이도 = Specificity ) )에 대한 진짜 양성 비율 ( TPR = Recall ) \n",
    "- 민감도 ( Recall ) 에 대한 1- 특이도 그래프\n",
    "\n",
    "\n",
    "- 특이도 ( Specificity ) \n",
    "> - 암환자가 아닌 사람에게 암환자 아니라고 진단 ( True Negative Rate ) \n",
    "\n",
    "- TPR : True Positive Rate (=민감도, true accept rate)\n",
    "> - 맞는 것을 맞다고 할 확률 \n",
    "> - 1인 케이스에 대해 1로 예측한 비율.(암환자를 진찰해서 암이라고 진단 함)\n",
    "\n",
    "- FPR :  False Positive Rate (=1-특이도, false accept rate)\n",
    "> - 틀린 것을 맞다고 할 확률\n",
    "> - 0인 케이스에 대해 1로 잘못 예측한 비율.(암환자가 아닌데 암이라고 진단 함)\n",
    "\n",
    "\n",
    "- 민감도 : 1인 케이스에 대해 1이라고 예측한 것.\n",
    "- 특이도 : 0인 케이스에 대해 0이라고 예측한 것.\n",
    "\n"
   ]
  },
  {
   "cell_type": "code",
   "execution_count": 36,
   "metadata": {},
   "outputs": [],
   "source": [
    "from sklearn.metrics import roc_curve\n",
    "fpr, tpr, thresholds = roc_curve(y_train_5,y_scores)"
   ]
  },
  {
   "cell_type": "code",
   "execution_count": 37,
   "metadata": {},
   "outputs": [
    {
     "data": {
      "text/plain": [
       "array([0.00000000e+00, 0.00000000e+00, 1.83220653e-05, ...,\n",
       "       9.92048224e-01, 9.92048224e-01, 1.00000000e+00])"
      ]
     },
     "execution_count": 37,
     "metadata": {},
     "output_type": "execute_result"
    }
   ],
   "source": [
    "fpr"
   ]
  },
  {
   "cell_type": "code",
   "execution_count": 38,
   "metadata": {},
   "outputs": [
    {
     "data": {
      "text/plain": [
       "<function matplotlib.pyplot.show(*args, **kw)>"
      ]
     },
     "execution_count": 38,
     "metadata": {},
     "output_type": "execute_result"
    },
    {
     "data": {
      "image/png": "[encoded data removed]",
      "text/plain": [
       "<Figure size 432x288 with 1 Axes>"
      ]
     },
     "metadata": {},
     "output_type": "display_data"
    }
   ],
   "source": [
    "def plot_roc_curve(fpr,tpr,label=None):\n",
    "    plt.plot(fpr,tpr,linewidth=2,label=label)\n",
    "    plt.plot([0,1],[0,1],'k--')\n",
    "    plt.axis([0,1,0,1])\n",
    "    plt.xlabel(\"FPR\")\n",
    "    plt.ylabel(\"TPR\")\n",
    "    \n",
    "plot_roc_curve(fpr,tpr)\n",
    "plt.show"
   ]
  },
  {
   "cell_type": "markdown",
   "metadata": {},
   "source": [
    "- TradeOff 관계 있음\n",
    "- 점섬은 완전한 랜덤분류기의 ROC 곡선\n",
    "- 좋은 분류기는 이 점선으로부터 최대한 멀리 떨어져있어야함 ( 왼쪽 위 모서리로 )\n",
    "\n",
    "- AUC ( area under the curve )\n",
    "> - AUC를 측정하면 분류기들을 비교할 수 있음\n",
    "> - 완벽한 분류기는 ROC의 AUC가 1 이고, 완전 랜덤한 분류기는 0.5"
   ]
  },
  {
   "cell_type": "code",
   "execution_count": 39,
   "metadata": {},
   "outputs": [
    {
     "data": {
      "text/plain": [
       "0.9659922629105575"
      ]
     },
     "execution_count": 39,
     "metadata": {},
     "output_type": "execute_result"
    }
   ],
   "source": [
    "from sklearn.metrics import roc_auc_score\n",
    "roc_auc_score(y_train_5,y_scores)"
   ]
  },
  {
   "cell_type": "markdown",
   "metadata": {},
   "source": [
    "- ROC 곡선은 Precision/recall과 비슷해서 어떤 것을 사용해야할지 궁금할 수 있습니다\n",
    "- Precision/Recall 곡선\n",
    "    - 양성 클래스가 드물거나 거짓 음성보다 거짓 양성이 중요한 경우 \n",
    "- 그렇지 않은 ROC 곡선 \n",
    "- AUC가 96%를 보면 매우 좋은 분류기라고 할 수 잇지만, 사실 5가 아님 (음성) 에 비해 5이다(양성)이 크게 적기 때문!\n",
    "\n",
    "- 이와 달리 PR 곡선은 분류기의 성능 개선 여지가 얼마나 되는지 잘 보여짐 "
   ]
  },
  {
   "cell_type": "code",
   "execution_count": 40,
   "metadata": {},
   "outputs": [
    {
     "name": "stderr",
     "output_type": "stream",
     "text": [
      "c:\\users\\jaesang\\appdata\\local\\programs\\python\\python37\\lib\\site-packages\\sklearn\\ensemble\\weight_boosting.py:29: DeprecationWarning: numpy.core.umath_tests is an internal NumPy module and should not be imported. It will be removed in a future NumPy release.\n",
      "  from numpy.core.umath_tests import inner1d\n"
     ]
    },
    {
     "data": {
      "image/png": "[encoded data removed]",
      "text/plain": [
       "<Figure size 432x288 with 1 Axes>"
      ]
     },
     "metadata": {},
     "output_type": "display_data"
    }
   ],
   "source": [
    "from sklearn.ensemble import RandomForestClassifier\n",
    "\n",
    "forest_clf=RandomForestClassifier(random_state=42)\n",
    "y_probas_forest = cross_val_predict(forest_clf,X_train,y_train_5,cv=5,method=\"predict_proba\")\n",
    "y_scores_forest = y_probas_forest[:,1]\n",
    "\n",
    "fpr_forest, tpr_forest, threshold_forest = roc_curve(y_train_5,y_scores_forest)\n",
    "\n",
    "plt.plot(fpr,tpr,\"b:\",label=\"SGD\")\n",
    "plot_roc_curve(fpr_forest,tpr_forest, \"Random Forest\")\n",
    "plt.legend(\"lower right\")\n",
    "plt.show()\n"
   ]
  },
  {
   "cell_type": "markdown",
   "metadata": {},
   "source": [
    "### 3.4 다중분류\n",
    "\n",
    "- 둘 이상의 클래스를 구별할 수 있는 다중분류기( Multiclass Classifuer )\n",
    "- RandomForest, Naive Bayes 분류기 같은 일부 알고리즘은 여러개의 클래스 직접 처리할 수 있음\n",
    "- SVM, Linear 분류기 같은 다른 알고리즘은 이진 분류만 가능 \n",
    "- 이진 분류기를 여러개 사용해, 다중 클래스를 분류하는 기법도 많음\n",
    "1. 일대다 OvA ( one-versus-all , one-versus-the-rest 전략 \n",
    "> - 특정 숫자 하나만 구별하는 숫자별 이진 분류기 10개 훈련시켜, 클래스가 10개인 숫자 이미지 분류 시스템을 만들 수 있음\n",
    "> - 각각의 클래스에 대해 표본이 속하는지 속하지 않는지의 이진 클래스 분류 문제를 풀고\n",
    "> - 각 분류기의 결정점수 중 가장 높은 것을 선택\n",
    "\n",
    "2. 일대일 OvO ( one-versus-one )\n",
    "> - 0과 1구별, 0과 2구별,1과2구별 등 각 숫자조합마다 이진분류기 훈련\n",
    "> - 클래스 N개 라면 N X ( N-1 )/ 2 개 필요 \n",
    "> - e.g ) MNIST 라면 45개의 분류기 훈련\n",
    "> - 주요 장점 : 각 분류기의 훈련에 전체 훈련 세트 중 구별할 두 클래스에 해당되는 샘플만 필요 \n",
    "> - SVM같은 알고리즘은 훈련 세트의 크기에 민감해서, 큰 훈련세트에서 몇개의 분류기를 훈련시키는 것보다 작은 훈련 세트에서 많은 분류기를 훈련시키는 쪽이 빠르기 때문에 OvO 선호\n",
    "\n",
    "다중 클래스 분류 작업에 이진 분류 알고리즘을 넣으면 sklearn 자동으로 감지해 OvA 적용 "
   ]
  },
  {
   "cell_type": "code",
   "execution_count": 41,
   "metadata": {},
   "outputs": [
    {
     "data": {
      "text/plain": [
       "array([5.])"
      ]
     },
     "execution_count": 41,
     "metadata": {},
     "output_type": "execute_result"
    }
   ],
   "source": [
    "sgd_clf.fit(X_train,y_train)\n",
    "sgd_clf.predict([some_digit])"
   ]
  },
  {
   "cell_type": "markdown",
   "metadata": {},
   "source": [
    "- 내부에서는 sklearn이 실제로 10개의 이진분류기를 훈련시키고 각각의 결정 점수를 얻어 점수가 높은 클래스 선택"
   ]
  },
  {
   "cell_type": "code",
   "execution_count": 42,
   "metadata": {},
   "outputs": [
    {
     "data": {
      "text/plain": [
       "array([[-323554.7599372 , -378861.82715938, -296286.0462952 ,\n",
       "        -134021.76312795, -624915.96908904,  187944.6500419 ,\n",
       "        -749487.2730463 , -292750.54433875, -873286.0848456 ,\n",
       "        -611567.34960888]])"
      ]
     },
     "execution_count": 42,
     "metadata": {},
     "output_type": "execute_result"
    }
   ],
   "source": [
    "some_digit_scores = sgd_clf.decision_function([some_digit])\n",
    "some_digit_scores"
   ]
  },
  {
   "cell_type": "code",
   "execution_count": 43,
   "metadata": {},
   "outputs": [
    {
     "data": {
      "text/plain": [
       "5"
      ]
     },
     "execution_count": 43,
     "metadata": {},
     "output_type": "execute_result"
    }
   ],
   "source": [
    "np.argmax(some_digit_scores)"
   ]
  },
  {
   "cell_type": "code",
   "execution_count": 44,
   "metadata": {},
   "outputs": [
    {
     "data": {
      "text/plain": [
       "array([0., 1., 2., 3., 4., 5., 6., 7., 8., 9.])"
      ]
     },
     "execution_count": 44,
     "metadata": {},
     "output_type": "execute_result"
    }
   ],
   "source": [
    "sgd_clf.classes_"
   ]
  },
  {
   "cell_type": "code",
   "execution_count": 45,
   "metadata": {},
   "outputs": [
    {
     "data": {
      "text/plain": [
       "5.0"
      ]
     },
     "execution_count": 45,
     "metadata": {},
     "output_type": "execute_result"
    }
   ],
   "source": [
    "sgd_clf.classes_[5]"
   ]
  },
  {
   "cell_type": "code",
   "execution_count": 46,
   "metadata": {},
   "outputs": [
    {
     "data": {
      "text/plain": [
       "array([5.])"
      ]
     },
     "execution_count": 46,
     "metadata": {},
     "output_type": "execute_result"
    }
   ],
   "source": [
    "from sklearn.multiclass import OneVsOneClassifier\n",
    "ovo_clf = OneVsOneClassifier(SGDClassifier(max_iter=5,random_state=42))\n",
    "ovo_clf.fit(X_train,y_train)\n",
    "ovo_clf.predict([some_digit])"
   ]
  },
  {
   "cell_type": "code",
   "execution_count": 47,
   "metadata": {},
   "outputs": [
    {
     "data": {
      "text/plain": [
       "45"
      ]
     },
     "execution_count": 47,
     "metadata": {},
     "output_type": "execute_result"
    }
   ],
   "source": [
    "len(ovo_clf.estimators_)"
   ]
  },
  {
   "cell_type": "code",
   "execution_count": 48,
   "metadata": {},
   "outputs": [
    {
     "data": {
      "text/plain": [
       "array([5.])"
      ]
     },
     "execution_count": 48,
     "metadata": {},
     "output_type": "execute_result"
    }
   ],
   "source": [
    "from sklearn.ensemble import RandomForestClassifier\n",
    "\n",
    "forest_clf = RandomForestClassifier(n_jobs=5, random_state=42) ## RandomForest는 직접 다중 클래스로 분류할 수 있음\n",
    "forest_clf.fit(X_train,y_train)\n",
    "forest_clf.predict([some_digit])"
   ]
  },
  {
   "cell_type": "code",
   "execution_count": 49,
   "metadata": {},
   "outputs": [
    {
     "data": {
      "text/plain": [
       "array([[0., 0., 0., 0., 0., 1., 0., 0., 0., 0.]])"
      ]
     },
     "execution_count": 49,
     "metadata": {},
     "output_type": "execute_result"
    }
   ],
   "source": [
    "forest_clf.predict_proba([some_digit])"
   ]
  },
  {
   "cell_type": "code",
   "execution_count": 50,
   "metadata": {},
   "outputs": [
    {
     "data": {
      "text/plain": [
       "array([0.85522699, 0.87135477, 0.83966667, 0.82270568, 0.85003334])"
      ]
     },
     "execution_count": 50,
     "metadata": {},
     "output_type": "execute_result"
    }
   ],
   "source": [
    "cross_val_score(sgd_clf,X_train,y_train,cv=5,scoring=\"accuracy\")"
   ]
  },
  {
   "cell_type": "code",
   "execution_count": 65,
   "metadata": {},
   "outputs": [
    {
     "data": {
      "text/plain": [
       "array([0.94652228, 0.93851025, 0.94583333, 0.94365258, 0.94314772])"
      ]
     },
     "execution_count": 65,
     "metadata": {},
     "output_type": "execute_result"
    }
   ],
   "source": [
    "cross_val_score(forest_clf,X_train,y_train,cv=5,scoring=\"accuracy\")"
   ]
  },
  {
   "cell_type": "markdown",
   "metadata": {},
   "source": [
    "### 3.5 에러 분석 \n",
    "- 가능성이 높은 모델을 찾았다고 가정하고 모델의 성능을 향상시킬 방법을 찾아보자\n",
    "- 그 중 한가지 방법이 에러의 종류를 분석하는 것\n",
    "- Confusion Matix을 보자 - cross_val_predict 함수를 사용하여 예측값을 만들고 confusion_matrix 함수 호출"
   ]
  },
  {
   "cell_type": "code",
   "execution_count": 53,
   "metadata": {},
   "outputs": [
    {
     "data": {
      "text/plain": [
       "array([[5733,    2,   24,   11,   12,   50,   42,    7,   38,    4],\n",
       "       [   1, 6480,   44,   25,    6,   41,    6,   10,  116,   13],\n",
       "       [  51,   36, 5339,  103,   81,   27,   88,   57,  162,   14],\n",
       "       [  48,   39,  141, 5345,    1,  227,   38,   52,  137,  103],\n",
       "       [  19,   28,   37,    9, 5359,    9,   58,   35,   79,  209],\n",
       "       [  67,   41,   32,  176,   72, 4602,  112,   28,  179,  112],\n",
       "       [  32,   25,   51,    2,   40,   89, 5624,    4,   51,    0],\n",
       "       [  28,   21,   71,   33,   54,   11,    5, 5785,   15,  242],\n",
       "       [  52,  151,   73,  160,   13,  162,   54,   23, 5021,  142],\n",
       "       [  44,   31,   30,   91,  152,   31,    3,  183,   72, 5312]],\n",
       "      dtype=int64)"
      ]
     },
     "execution_count": 53,
     "metadata": {},
     "output_type": "execute_result"
    }
   ],
   "source": [
    "y_train_pred = cross_val_predict(sgd_clf,X_train_scaled,y_train,cv=5)\n",
    "conf_mx = confusion_matrix(y_train,y_train_pred)\n",
    "conf_mx"
   ]
  },
  {
   "cell_type": "code",
   "execution_count": 54,
   "metadata": {},
   "outputs": [
    {
     "data": {
      "image/png": "[encoded data removed]",
      "text/plain": [
       "<Figure size 288x288 with 1 Axes>"
      ]
     },
     "metadata": {},
     "output_type": "display_data"
    }
   ],
   "source": [
    "plt.matshow(conf_mx,cmap=plt.cm.gray)\n",
    "plt.show()"
   ]
  },
  {
   "cell_type": "markdown",
   "metadata": {},
   "source": [
    "- 배열에서 가장 큰 값은 흰색, 가장 작은값은 검정색\n",
    "- 5가 다른 색보다 약간 회색을 보임"
   ]
  },
  {
   "cell_type": "code",
   "execution_count": 55,
   "metadata": {},
   "outputs": [
    {
     "data": {
      "text/plain": [
       "array([[5923],\n",
       "       [6742],\n",
       "       [5958],\n",
       "       [6131],\n",
       "       [5842],\n",
       "       [5421],\n",
       "       [5918],\n",
       "       [6265],\n",
       "       [5851],\n",
       "       [5949]], dtype=int64)"
      ]
     },
     "execution_count": 55,
     "metadata": {},
     "output_type": "execute_result"
    }
   ],
   "source": [
    "row_sums = conf_mx.sum(axis=1,keepdims=True)\n",
    "row_sums"
   ]
  },
  {
   "cell_type": "code",
   "execution_count": 56,
   "metadata": {},
   "outputs": [
    {
     "data": {
      "text/plain": [
       "array([[9.67921661e-01, 3.37666723e-04, 4.05200068e-03, 1.85716698e-03,\n",
       "        2.02600034e-03, 8.44166807e-03, 7.09100118e-03, 1.18183353e-03,\n",
       "        6.41566774e-03, 6.75333446e-04],\n",
       "       [1.48323939e-04, 9.61139128e-01, 6.52625334e-03, 3.70809849e-03,\n",
       "        8.89943637e-04, 6.08128152e-03, 8.89943637e-04, 1.48323939e-03,\n",
       "        1.72055770e-02, 1.92821121e-03],\n",
       "       [8.55991944e-03, 6.04229607e-03, 8.96106076e-01, 1.72876804e-02,\n",
       "        1.35951662e-02, 4.53172205e-03, 1.47700571e-02, 9.56696878e-03,\n",
       "        2.71903323e-02, 2.34978181e-03],\n",
       "       [7.82906541e-03, 6.36111564e-03, 2.29978796e-02, 8.71799054e-01,\n",
       "        1.63105529e-04, 3.70249551e-02, 6.19801011e-03, 8.48148752e-03,\n",
       "        2.23454575e-02, 1.67998695e-02],\n",
       "       [3.25231085e-03, 4.79287915e-03, 6.33344745e-03, 1.54056830e-03,\n",
       "        9.17322835e-01, 1.54056830e-03, 9.92810681e-03, 5.99109894e-03,\n",
       "        1.35227662e-02, 3.57754194e-02],\n",
       "       [1.23593433e-02, 7.56318023e-03, 5.90296993e-03, 3.24663346e-02,\n",
       "        1.32816823e-02, 8.48920863e-01, 2.06603948e-02, 5.16509869e-03,\n",
       "        3.30197381e-02, 2.06603948e-02],\n",
       "       [5.40723217e-03, 4.22440014e-03, 8.61777628e-03, 3.37952011e-04,\n",
       "        6.75904022e-03, 1.50388645e-02, 9.50321054e-01, 6.75904022e-04,\n",
       "        8.61777628e-03, 0.00000000e+00],\n",
       "       [4.46927374e-03, 3.35195531e-03, 1.13328013e-02, 5.26735834e-03,\n",
       "        8.61931365e-03, 1.75578611e-03, 7.98084597e-04, 9.23383879e-01,\n",
       "        2.39425379e-03, 3.86272945e-02],\n",
       "       [8.88736968e-03, 2.58075543e-02, 1.24764997e-02, 2.73457529e-02,\n",
       "        2.22184242e-03, 2.76875748e-02, 9.22919159e-03, 3.93095197e-03,\n",
       "        8.58143907e-01, 2.42693557e-02],\n",
       "       [7.39620104e-03, 5.21095983e-03, 5.04286435e-03, 1.52966885e-02,\n",
       "        2.55505127e-02, 5.21095983e-03, 5.04286435e-04, 3.07614725e-02,\n",
       "        1.21028744e-02, 8.92923180e-01]])"
      ]
     },
     "execution_count": 56,
     "metadata": {},
     "output_type": "execute_result"
    }
   ],
   "source": [
    "row_sums = conf_mx.sum(axis=1,keepdims=True)\n",
    "norm_conf_mx = conf_mx / row_sums\n",
    "norm_conf_mx"
   ]
  },
  {
   "cell_type": "code",
   "execution_count": 57,
   "metadata": {},
   "outputs": [
    {
     "data": {
      "image/png": "[encoded data removed]",
      "text/plain": [
       "<Figure size 288x288 with 1 Axes>"
      ]
     },
     "metadata": {},
     "output_type": "display_data"
    }
   ],
   "source": [
    "row_sums = conf_mx.sum(axis=1,keepdims=True)\n",
    "norm_conf_mx = conf_mx / row_sums\n",
    "np.fill_diagonal(norm_conf_mx,0) ## 대각선은 0으로 채워 다시 그린다 \n",
    "plt.matshow(norm_conf_mx, cmap=plt.cm.gray)\n",
    "plt.show()"
   ]
  },
  {
   "cell_type": "markdown",
   "metadata": {},
   "source": [
    "- 클래스 8과9의 열이 상당히 밝음 = 많은 이미지가 8과 9로 잘못 분류되었다는 것을 암시\n",
    "- 클래스 8과9의 행도 밝음 = 숫자 8,9가 다른 숫자들과 혼돈이 자주 된다는 것을 암시\n",
    "- 클래스 1의 열은 매우 어두으므로 숫자 1를 정확하게 분류 ( 몇개는 8로 혼돈된 것 같음 ) \n",
    "- 대칭은 아님 ( 5-8 ) \n",
    "\n",
    "- 이 오차행렬을 분석하면 분류기 성능 향상 방안에 대한 통찰을 얻을 수 있음 \n",
    "- 3,5가 서로 혼돈되는 것을 보완하고, 8과9를 더 잘 분류할 수 있도록 개선 \n",
    "\n"
   ]
  },
  {
   "cell_type": "code",
   "execution_count": 58,
   "metadata": {},
   "outputs": [],
   "source": [
    "# 숫자 그림을 위한 추가 함수\n",
    "def plot_digits(instances, images_per_row=10, **options):\n",
    "    size = 28\n",
    "    images_per_row = min(len(instances), images_per_row)\n",
    "    images = [instance.reshape(size,size) for instance in instances]\n",
    "    n_rows = (len(instances) - 1) // images_per_row + 1\n",
    "    row_images = []\n",
    "    n_empty = n_rows * images_per_row - len(instances)\n",
    "    images.append(np.zeros((size, size * n_empty)))\n",
    "    for row in range(n_rows):\n",
    "        rimages = images[row * images_per_row : (row + 1) * images_per_row]\n",
    "        row_images.append(np.concatenate(rimages, axis=1))\n",
    "    image = np.concatenate(row_images, axis=0)\n",
    "    plt.imshow(image, cmap = matplotlib.cm.binary, **options)\n",
    "    plt.axis(\"off\")"
   ]
  },
  {
   "cell_type": "code",
   "execution_count": 59,
   "metadata": {},
   "outputs": [
    {
     "data": {
      "image/png": "[encoded data removed]",
      "text/plain": [
       "<Figure size 576x576 with 4 Axes>"
      ]
     },
     "metadata": {},
     "output_type": "display_data"
    }
   ],
   "source": [
    "cl_a, cl_b = 3, 5\n",
    "X_aa = X_train[(y_train == cl_a) & (y_train_pred == cl_a)]\n",
    "X_ab = X_train[(y_train == cl_a) & (y_train_pred == cl_b)]\n",
    "X_ba = X_train[(y_train == cl_b) & (y_train_pred == cl_a)]\n",
    "X_bb = X_train[(y_train == cl_b) & (y_train_pred == cl_b)]\n",
    "\n",
    "plt.figure(figsize=(8,8))\n",
    "plt.subplot(221); plot_digits(X_aa[:25], images_per_row=5)\n",
    "plt.subplot(222); plot_digits(X_ab[:25], images_per_row=5)\n",
    "plt.subplot(223); plot_digits(X_ba[:25], images_per_row=5)\n",
    "plt.subplot(224); plot_digits(X_bb[:25], images_per_row=5)\n",
    "plt.show()"
   ]
  },
  {
   "cell_type": "markdown",
   "metadata": {},
   "source": [
    "- 왼쪽 5X5 블록 두개는 3으로 분류된 이미지\n",
    "- 오른쪽 5X5 블록 두개는 5로 분류된 이미지 \n",
    "- 왜 이런 오분류가 나온 이유는 SGD 선형 모델을 사용했기 때문\n",
    "- 선형 분류기는 클래스마다 픽셀에 가중치를 할당하고 새로운 이미지에 대해 단순히 픽셀 강도의 가중치 합을 클래스의 점수로 계산\n",
    "- 따라서 3과5는 몇개의 픽셀만 다르기 때문에 모델이 쉽게 혼동\n",
    "\n",
    "- 3과5의 차이는 위쪽 선과 아래쪽 호를 이어주는 작은 직선의 위치 \n",
    "- 3을 쓸 떄 연결부위가 조금 왼쪽에 치우지면 분류기가 5로 분류.. \n",
    "- 에러를 줄이는 방법\n",
    "- 이미지를 중앙에 위치시키고, 회전되어 있지않도록 전처리하는 것 "
   ]
  },
  {
   "cell_type": "markdown",
   "metadata": {},
   "source": [
    "### 3.6 다중 레이블 분류 \n",
    "\n",
    "- 지금까지는 각 샘플이 하나의 클래스에서만 항당\n",
    "- 하지만 분류기가 샘플마다 여러개의 클래스를 출력해야할 때도 있음\n",
    "- 앨리스,밥, 찰리 세 얼굴을 인식하도록 훈련되었다고 가정하자\n",
    "- 한 사진에 앨리스와 찰리가 있으면 분류기는 [1,0,1] 출략\n",
    "- 이처럼 여러개의 이진 레이블을 출력한는 분류 시스템을 다중 레이블 분류( Multilabel Classification ) 시스템입니다"
   ]
  },
  {
   "cell_type": "code",
   "execution_count": 60,
   "metadata": {},
   "outputs": [
    {
     "data": {
      "text/plain": [
       "KNeighborsClassifier(algorithm='auto', leaf_size=30, metric='minkowski',\n",
       "           metric_params=None, n_jobs=1, n_neighbors=5, p=2,\n",
       "           weights='uniform')"
      ]
     },
     "execution_count": 60,
     "metadata": {},
     "output_type": "execute_result"
    }
   ],
   "source": [
    "from sklearn.neighbors import KNeighborsClassifier\n",
    "\n",
    "y_train_large = (y_train >= 7)\n",
    "y_train_odd = (y_train % 2 == 1)\n",
    "y_multilabel = np.c_[y_train_large, y_train_odd] ## 큰 수 인지 ( 7,8,9) / 홀 수 인지 \n",
    "\n",
    "knn_clf = KNeighborsClassifier()\n",
    "knn_clf.fit(X_train, y_multilabel)"
   ]
  },
  {
   "cell_type": "code",
   "execution_count": 61,
   "metadata": {},
   "outputs": [
    {
     "data": {
      "text/plain": [
       "array([[False, False],\n",
       "       [False, False],\n",
       "       [False,  True],\n",
       "       ...,\n",
       "       [ True, False],\n",
       "       [False, False],\n",
       "       [ True,  True]])"
      ]
     },
     "execution_count": 61,
     "metadata": {},
     "output_type": "execute_result"
    }
   ],
   "source": [
    "y_multilabel"
   ]
  },
  {
   "cell_type": "code",
   "execution_count": 62,
   "metadata": {},
   "outputs": [
    {
     "data": {
      "text/plain": [
       "array([[False,  True]])"
      ]
     },
     "execution_count": 62,
     "metadata": {},
     "output_type": "execute_result"
    }
   ],
   "source": [
    "knn_clf.predict([some_digit])"
   ]
  },
  {
   "cell_type": "markdown",
   "metadata": {},
   "source": [
    "- 다중 레이블 분류기를 평가하는 방법\n",
    "- 각 Label의 F1 점수를 구하고 간단하게 평균을 낸다 \n",
    "- 평균말고 다르게 계산할 수 있음 "
   ]
  },
  {
   "cell_type": "code",
   "execution_count": 63,
   "metadata": {},
   "outputs": [
    {
     "data": {
      "text/plain": [
       "0.9781856948306107"
      ]
     },
     "execution_count": 63,
     "metadata": {},
     "output_type": "execute_result"
    }
   ],
   "source": [
    "y_train_knn_pred = cross_val_predict(knn_clf, X_train, y_multilabel, cv=5, n_jobs=-1)\n",
    "f1_score(y_multilabel, y_train_knn_pred, average=\"macro\")"
   ]
  },
  {
   "cell_type": "code",
   "execution_count": 64,
   "metadata": {},
   "outputs": [
    {
     "data": {
      "text/plain": [
       "0.9794587179021694"
      ]
     },
     "execution_count": 64,
     "metadata": {},
     "output_type": "execute_result"
    }
   ],
   "source": [
    "f1_score(y_multilabel, y_train_knn_pred, average=\"weighted\")"
   ]
  }
 ],
 "metadata": {
  "kernelspec": {
   "display_name": "Python 3",
   "language": "python",
   "name": "python3"
  },
  "language_info": {
   "codemirror_mode": {
    "name": "ipython",
    "version": 3
   },
   "file_extension": ".py",
   "mimetype": "text/x-python",
   "name": "python",
   "nbconvert_exporter": "python",
   "pygments_lexer": "ipython3",
   "version": "3.7.0"
  }
 },
 "nbformat": 4,
 "nbformat_minor": 2
}
